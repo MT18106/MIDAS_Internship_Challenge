{
 "cells": [
  {
   "cell_type": "code",
   "execution_count": 1,
   "metadata": {
    "colab": {},
    "colab_type": "code",
    "id": "kI_NqoE4H2yY"
   },
   "outputs": [],
   "source": [
    "import nltk\n",
    "import csv\n",
    "import re\n",
    "import sys\n",
    "from nltk.tokenize import word_tokenize\n",
    "import pandas as pd\n",
    "import numpy as np\n",
    "from sklearn import svm\n",
    "from sklearn.metrics import accuracy_score\n",
    "from sklearn.metrics import f1_score\n",
    "from sklearn.metrics import roc_curve, auc\n",
    "import matplotlib.pyplot as plt\n",
    "import seaborn as sn"
   ]
  },
  {
   "cell_type": "markdown",
   "metadata": {
    "colab_type": "text",
    "id": "3pzgCNZvH_pK"
   },
   "source": [
    "## Importing libraries\n",
    "\n",
    "---\n",
    "\n"
   ]
  },
  {
   "cell_type": "code",
   "execution_count": 2,
   "metadata": {
    "colab": {},
    "colab_type": "code",
    "id": "6Mvl_H0vZq-B"
   },
   "outputs": [],
   "source": [
    "import pickle\n",
    "from sklearn.metrics import classification_report\n",
    "from sklearn.metrics import confusion_matrix"
   ]
  },
  {
   "cell_type": "code",
   "execution_count": 3,
   "metadata": {
    "colab": {
     "base_uri": "https://localhost:8080/",
     "height": 128
    },
    "colab_type": "code",
    "id": "ZcgzncjAaNLs",
    "outputId": "c352975b-6e93-4ef1-8247-ee0036a6a99b"
   },
   "outputs": [
    {
     "name": "stdout",
     "output_type": "stream",
     "text": [
      "Go to this URL in a browser: https://accounts.google.com/o/oauth2/auth?client_id=947318989803-6bn6qk8qdgf4n4g3pfee6491hc0brc4i.apps.googleusercontent.com&redirect_uri=urn%3Aietf%3Awg%3Aoauth%3A2.0%3Aoob&scope=email%20https%3A%2F%2Fwww.googleapis.com%2Fauth%2Fdocs.test%20https%3A%2F%2Fwww.googleapis.com%2Fauth%2Fdrive%20https%3A%2F%2Fwww.googleapis.com%2Fauth%2Fdrive.photos.readonly%20https%3A%2F%2Fwww.googleapis.com%2Fauth%2Fpeopleapi.readonly&response_type=code\n",
      "\n",
      "Enter your authorization code:\n",
      "··········\n",
      "Mounted at /content/gdrive\n"
     ]
    }
   ],
   "source": [
    "# from google.colab import drive\n",
    "# drive.mount('/content/gdrive')"
   ]
  },
  {
   "cell_type": "markdown",
   "metadata": {
    "colab_type": "text",
    "id": "uGcZDZurIM3l"
   },
   "source": [
    "## baseline approach"
   ]
  },
  {
   "cell_type": "markdown",
   "metadata": {
    "colab_type": "text",
    "id": "6VnA1WDvIRLM"
   },
   "source": [
    "## function to read CSV"
   ]
  },
  {
   "cell_type": "code",
   "execution_count": 3,
   "metadata": {
    "colab": {},
    "colab_type": "code",
    "id": "KVswgwXVZq-G"
   },
   "outputs": [],
   "source": [
    "#This reads CSV a given CSV and stores the data in a list\n",
    "def read_csv(data_path):\n",
    "    file_reader = csv.reader(open(data_path,\"rt\", errors=\"ignore\",encoding=\"utf-8\"), delimiter=',')\n",
    "    sent_list = []\n",
    "    label_list = []\n",
    "\n",
    "    for row in file_reader:\n",
    "        id = row[0]\n",
    "        sent = row[1]\n",
    "        sent_list.append((id,sent))\n",
    "        label_list.append(row[2])\n",
    "    return sent_list, label_list"
   ]
  },
  {
   "cell_type": "markdown",
   "metadata": {
    "colab_type": "text",
    "id": "ImdMsH_aIYwy"
   },
   "source": [
    "## defining class tagging parsing \n",
    "## sentence split does splitting sentences\n",
    "## tagging NLTK tokenizes sentences"
   ]
  },
  {
   "cell_type": "code",
   "execution_count": 4,
   "metadata": {
    "colab": {},
    "colab_type": "code",
    "id": "GXQDGfe2Zq-K"
   },
   "outputs": [],
   "source": [
    "class taggingParsing:\n",
    "\n",
    "    def sentenceSplit(self, text):\n",
    "        tokenizer = nltk.data.load('tokenizers/punkt/english.pickle')\n",
    "        sentences = tokenizer.tokenize(text)\n",
    "        return sentences\n",
    "\n",
    "    def taggingNLTK(self, text):\n",
    "        tokenizer = nltk.data.load('tokenizers/punkt/english.pickle')\n",
    "        sentences = tokenizer.tokenize(text)\n",
    "        for sent in sentences:\n",
    "            text = word_tokenize(sent)\n",
    "            tagged_sent = nltk.pos_tag(text)"
   ]
  },
  {
   "cell_type": "markdown",
   "metadata": {
    "colab_type": "text",
    "id": "KXmIR94MPtIb"
   },
   "source": [
    "## classify class is there to classify where the sentence has suggection or not. It uses human annotated keyword that are likely to present in the reviews having any suggestions or opinons. On top of it, uses pattern matching and part of speech tagging to classify reviews."
   ]
  },
  {
   "cell_type": "code",
   "execution_count": 5,
   "metadata": {
    "colab": {},
    "colab_type": "code",
    "id": "iaC0PvF5Zq-O"
   },
   "outputs": [],
   "source": [
    "def classify(sent_list):\n",
    "\n",
    "    keywords = [\"suggest\",\"recommend\",\"hopefully\",\"go for\",\"request\",\"it would be nice\",\"adding\",\"should come with\",\"should be able\",\"could come with\", \"i need\" , \"we need\",\"needs\", \"would like to\",\"would love to\",\"allow\",\"add\"]\n",
    "\n",
    "    # Goldberg et al.\n",
    "    pattern_strings = [r'.*would\\slike.*if.*', r'.*i\\swish.*', r'.*i\\shope.*', r'.*i\\swant.*', r'.*hopefully.*',\n",
    "                       r\".*if\\sonly.*\", r\".*would\\sbe\\sbetter\\sif.*\", r\".*should.*\", r\".*would\\sthat.*\",\n",
    "                       r\".*can't\\sbelieve.*didn't.*\", r\".*don't\\sbelieve.*didn't.*\", r\".*do\\swant.*\", r\".*i\\scan\\shas.*\"]\n",
    "    compiled_patterns = []\n",
    "    for patt in pattern_strings:\n",
    "        compiled_patterns.append(re.compile(patt))\n",
    "\n",
    "\n",
    "    label_list = []\n",
    "    for sent in sent_list:\n",
    "        tokenized_sent = word_tokenize(sent[1])\n",
    "        tagged_sent = nltk.pos_tag(tokenized_sent)\n",
    "        tags = [i[1] for i in tagged_sent]\n",
    "        label = 0\n",
    "        patt_matched = False\n",
    "        for compiled_patt in compiled_patterns:\n",
    "            joined_sent = \" \".join(tokenized_sent)\n",
    "            matches = compiled_patt.findall(joined_sent)\n",
    "            if len(matches) > 0:\n",
    "                patt_matched = True\n",
    "        keyword_match = any(elem in keywords for elem in tokenized_sent)\n",
    "        \n",
    "        \n",
    "        pos_match = any(elem in ['MD', 'VB'] for elem in tags)\n",
    "\n",
    "    \n",
    "\n",
    "        if patt_matched:\n",
    "            label = 1\n",
    "        elif keyword_match == True:\n",
    "                label = 1\n",
    "        elif pos_match == True:\n",
    "                label = 1    \n",
    "     \n",
    "\n",
    "        label_list.append(label)\n",
    "\n",
    "\n",
    "\n",
    "    return label_list\n"
   ]
  },
  {
   "cell_type": "code",
   "execution_count": 7,
   "metadata": {
    "colab": {},
    "colab_type": "code",
    "id": "jiXdvQ_BZq-S"
   },
   "outputs": [],
   "source": [
    "# sent_list,label_list = read_csv('gdrive/My Drive/NLP task data/V1.4_Training.csv')\n",
    "sent_list,label_list = read_csv('C:\\\\Users\\\\Shishir\\\\data\\\\V1.4_Training.csv')\n",
    "label_list = [int(label) for label in label_list]"
   ]
  },
  {
   "cell_type": "code",
   "execution_count": 12,
   "metadata": {
    "colab": {},
    "colab_type": "code",
    "id": "6_CrM3V5Zq-W"
   },
   "outputs": [],
   "source": [
    "predicted_label_list = classify(sent_list)"
   ]
  },
  {
   "cell_type": "code",
   "execution_count": 13,
   "metadata": {
    "colab": {},
    "colab_type": "code",
    "id": "R3QmfRcOZq-b"
   },
   "outputs": [
    {
     "data": {
      "text/plain": [
       "8500"
      ]
     },
     "execution_count": 13,
     "metadata": {},
     "output_type": "execute_result"
    }
   ],
   "source": [
    "len(sent_list)"
   ]
  },
  {
   "cell_type": "code",
   "execution_count": 14,
   "metadata": {
    "colab": {
     "base_uri": "https://localhost:8080/",
     "height": 171
    },
    "colab_type": "code",
    "id": "0DS5bX4KZq-j",
    "outputId": "8a6748f5-3d05-4f30-9842-4e713276dc2e"
   },
   "outputs": [],
   "source": [
    "# len(predicted_label_list)"
   ]
  },
  {
   "cell_type": "code",
   "execution_count": 15,
   "metadata": {
    "colab": {},
    "colab_type": "code",
    "id": "ue6e-rf9Zq-p",
    "outputId": "fc0c6217-e0af-4928-c613-14e7c378c3f6"
   },
   "outputs": [
    {
     "name": "stdout",
     "output_type": "stream",
     "text": [
      "53.400000000000006\n"
     ]
    }
   ],
   "source": [
    "count = 0\n",
    "for i in range(len(sent_list)):\n",
    "    if label_list[i] == predicted_label_list[i]:\n",
    "        count+=1\n",
    "print((float(count)/len(sent_list))*100)"
   ]
  },
  {
   "cell_type": "code",
   "execution_count": 16,
   "metadata": {
    "colab": {},
    "colab_type": "code",
    "id": "tl3lSYbDZq-u",
    "outputId": "664b8919-271d-4276-b4ef-b36c79d3be7e"
   },
   "outputs": [
    {
     "data": {
      "text/plain": [
       "4539"
      ]
     },
     "execution_count": 16,
     "metadata": {},
     "output_type": "execute_result"
    }
   ],
   "source": [
    "count"
   ]
  },
  {
   "cell_type": "code",
   "execution_count": 17,
   "metadata": {
    "colab": {},
    "colab_type": "code",
    "id": "LfD7TQmrZq-0"
   },
   "outputs": [],
   "source": [
    "c1 = 0\n",
    "c2 = 0\n",
    "for i in range(len(label_list)):\n",
    "    if label_list[i] == 0:\n",
    "        c1+=1\n",
    "    else:\n",
    "        c2+=1"
   ]
  },
  {
   "cell_type": "code",
   "execution_count": 18,
   "metadata": {
    "colab": {},
    "colab_type": "code",
    "id": "JliDrpDAZq-4",
    "outputId": "99bf2685-4e5a-4399-8413-fad14160c64f"
   },
   "outputs": [
    {
     "data": {
      "text/plain": [
       "(6415, 2085)"
      ]
     },
     "execution_count": 18,
     "metadata": {},
     "output_type": "execute_result"
    }
   ],
   "source": [
    "c1, c2"
   ]
  },
  {
   "cell_type": "markdown",
   "metadata": {
    "colab_type": "text",
    "id": "26W1OVUyJHPi"
   },
   "source": [
    "## loading glove pretrained model. We would like to use glove pretrained word embedding model as it represents words in vector representation, where values of vector represents contextual similiarity of co-occurences in vector space.\n"
   ]
  },
  {
   "cell_type": "code",
   "execution_count": 19,
   "metadata": {
    "colab": {},
    "colab_type": "code",
    "id": "6-Tq2McwZq--"
   },
   "outputs": [],
   "source": [
    "def loadGloveModel(gloveFile):\n",
    "    print(\"Loading Glove Model\")\n",
    "    f = open(gloveFile,'r', encoding='utf-8')\n",
    "    model = {}\n",
    "    for line in f:\n",
    "        splitLine = line.split()\n",
    "        word = splitLine[0]\n",
    "        embedding = np.array([float(val) for val in splitLine[1:]])\n",
    "        model[word] = embedding\n",
    "    print(\"Done.\",len(model),\" words loaded!\")\n",
    "    return model"
   ]
  },
  {
   "cell_type": "code",
   "execution_count": 21,
   "metadata": {
    "colab": {},
    "colab_type": "code",
    "id": "uboe5bAWZq_D",
    "outputId": "bc61ddbd-cc37-44de-b9dc-2dc4fc622351"
   },
   "outputs": [
    {
     "name": "stdout",
     "output_type": "stream",
     "text": [
      "Loading Glove Model\n",
      "Done. 400000  words loaded!\n"
     ]
    }
   ],
   "source": [
    "model = loadGloveModel('C:\\\\Users\\\\Shishir\\\\data\\\\glove.6B.50d.txt')"
   ]
  },
  {
   "cell_type": "code",
   "execution_count": 22,
   "metadata": {
    "colab": {},
    "colab_type": "code",
    "id": "f3_2qxRPZq_O",
    "outputId": "8dfde724-05eb-49a4-c540-23e81459841a"
   },
   "outputs": [
    {
     "data": {
      "text/plain": [
       "array([-0.43396 ,  0.73992 ,  0.78403 , -0.41921 ,  0.47901 , -0.90307 ,\n",
       "        0.13821 ,  0.6004  , -0.18415 , -0.62068 , -0.67484 ,  1.2673  ,\n",
       "        0.52699 , -0.11892 ,  0.9452  ,  0.48304 , -0.49922 , -0.98791 ,\n",
       "        0.97262 , -0.98219 ,  0.41451 ,  0.076195,  0.76523 ,  1.1183  ,\n",
       "        1.1039  , -1.2832  , -1.0954  , -0.68419 ,  0.79478 , -1.112   ,\n",
       "        1.8908  ,  0.79092 , -0.74726 ,  0.045625, -0.44904 , -0.26887 ,\n",
       "        0.7335  , -1.1762  ,  0.20768 , -0.45872 ,  1.1217  ,  0.24514 ,\n",
       "        0.39667 ,  0.28376 ,  0.40472 ,  0.6518  ,  0.25236 ,  0.048414,\n",
       "        0.3273  ,  1.1465  ])"
      ]
     },
     "execution_count": 22,
     "metadata": {},
     "output_type": "execute_result"
    }
   ],
   "source": [
    "model['please']"
   ]
  },
  {
   "cell_type": "code",
   "execution_count": 23,
   "metadata": {
    "colab": {},
    "colab_type": "code",
    "id": "2Yz1yll-Zq_U",
    "outputId": "0ad3604e-96cf-47f5-dd8a-a5f8865405cf"
   },
   "outputs": [
    {
     "data": {
      "text/plain": [
       "array([ 0.35145  , -0.24155  ,  0.0054776, -0.43396  ,  0.498    ,\n",
       "       -0.15624  ,  0.085152 ,  0.037574 , -0.08182  , -0.11312  ,\n",
       "        0.30311  ,  0.71108  , -0.18012  , -0.14026  ,  0.72316  ,\n",
       "        1.1194   ,  0.54095  , -0.44946  ,  0.64814  , -0.86225  ,\n",
       "       -0.088763 , -0.055229 ,  0.49666  , -0.14049  ,  0.20234  ,\n",
       "       -2.1223   , -0.061711 , -0.18884  ,  0.15737  , -0.52156  ,\n",
       "        3.7028   ,  0.73726  , -1.0739   , -0.63594  , -0.18347  ,\n",
       "       -0.46252  ,  0.36886  ,  0.19455  , -0.068823 , -0.32577  ,\n",
       "       -0.46426  , -0.096529 ,  0.41884  ,  0.53723  , -0.065486 ,\n",
       "        0.14923  , -0.48415  ,  0.46327  , -0.029425 ,  0.34362  ])"
      ]
     },
     "execution_count": 23,
     "metadata": {},
     "output_type": "execute_result"
    }
   ],
   "source": [
    "model['should']"
   ]
  },
  {
   "cell_type": "markdown",
   "metadata": {
    "colab_type": "text",
    "id": "p826p8a7KZQl"
   },
   "source": [
    "## function for feature extraction. \n",
    "### We use similiar feature extraction approach as baseline but with some minimal changes.\n",
    "### We are here converting a review into its vector representations. Sentence vector is a weighted sum of words. We give different weights to words in keywords, having a pos tag 'MD' or 'VB' or nothing among them. \n",
    "###  These weights are designed in such a way that the sum of all the weights are equals to 1(basically representing probabilities). \n",
    "### We are giving highest weight to word in keyword, then word in pos tag then others.\n",
    "### We are tried various combinations of these weights and found that weights = {0.8, 0.15, 0.05} for keywords, pos tags, and others respectively is the best combination in terms of highest train and cross validation set accuracy by applying SVM classifier."
   ]
  },
  {
   "cell_type": "code",
   "execution_count": 24,
   "metadata": {
    "colab": {},
    "colab_type": "code",
    "id": "pO-7vBWWZq_a"
   },
   "outputs": [],
   "source": [
    "def get_features(sent_list, ):\n",
    "  \n",
    "  \n",
    "  \n",
    "    ## defining keywords that mainly occurs while giving any suggestion or opinion\n",
    "    \n",
    "    keywords = [\"suggest\",\"recommend\",\"hopefully\",\"go\",\"request\",\n",
    "                \"would\",\"be\", \"nice\",\"adding\",\"should\", \"come\",\"able\",\n",
    "                \"could\", \"need\",\"needs\", \"like\",\n",
    "                \"love\",\"allow\",\"add\", \"wish\", \"hope\", \"want\", \"hopefully\", \"better\", \"believe\",\n",
    "                \"if\", \"only\", \"didn't\", \"can\", \"can't\"]\n",
    "\n",
    "\n",
    "    # reading reviews \n",
    "    label_list = []\n",
    "    features = []\n",
    "    for sent in sent_list:\n",
    "        sent_vector = np.zeros(shape=(50,))\n",
    "        tokenized_sent = word_tokenize(sent[1])\n",
    "        tagged_sent = nltk.pos_tag(tokenized_sent)\n",
    "        tags = [i[1] for i in tagged_sent]\n",
    "        label = 0\n",
    "\n",
    "#         keyword_match = any(elem in keywords for elem in tokenized_sent)\n",
    "        for i in range(len(tokenized_sent)):\n",
    "            elem = tokenized_sent[i]\n",
    "            elem = elem.lower()\n",
    "            tag = tagged_sent[i][1]\n",
    "            if model.get(elem) is not None:\n",
    "                # checking for keyword match\n",
    "                if elem in keywords:\n",
    "                    sent_vector+=0.8*model[elem]\n",
    "                # checking if word having pos-tag 'MD' or 'VB'\n",
    "                elif tag in ['MD', 'VB']:\n",
    "                    sent_vector+=0.15*model[elem]\n",
    "                else:\n",
    "                    sent_vector+=0.05*model[elem]\n",
    "        features.append(sent_vector)\n",
    "    features = np.array(features)\n",
    "    return features\n",
    "        "
   ]
  },
  {
   "cell_type": "markdown",
   "metadata": {
    "colab_type": "text",
    "id": "zjDkQjHiXLB5"
   },
   "source": [
    "### reading training data file"
   ]
  },
  {
   "cell_type": "code",
   "execution_count": 25,
   "metadata": {
    "colab": {},
    "colab_type": "code",
    "id": "8jqmsmdkZq_g"
   },
   "outputs": [],
   "source": [
    "sent_list,label_list = read_csv('C:\\\\Users\\\\Shishir\\\\data\\\\V1.4_Training.csv')\n",
    "features = get_features(sent_list)\n"
   ]
  },
  {
   "cell_type": "markdown",
   "metadata": {
    "colab_type": "text",
    "id": "ue8w2UyXXk_O"
   },
   "source": [
    "### dumping features into file"
   ]
  },
  {
   "cell_type": "code",
   "execution_count": 0,
   "metadata": {
    "colab": {},
    "colab_type": "code",
    "id": "CcY2E5NTZq_l"
   },
   "outputs": [],
   "source": [
    "# with open('features', 'wb') as file:\n",
    "#     pickle.dump(features, file)"
   ]
  },
  {
   "cell_type": "markdown",
   "metadata": {
    "colab_type": "text",
    "id": "4nqRnezLYIIs"
   },
   "source": [
    "### loading features from file"
   ]
  },
  {
   "cell_type": "code",
   "execution_count": 26,
   "metadata": {
    "colab": {},
    "colab_type": "code",
    "id": "ShnagaZVZq_q"
   },
   "outputs": [],
   "source": [
    "with open('C:\\\\Users\\\\Shishir\\\\data\\\\features', 'rb') as file:\n",
    "    features = pickle.load(file)"
   ]
  },
  {
   "cell_type": "code",
   "execution_count": 27,
   "metadata": {
    "colab": {},
    "colab_type": "code",
    "id": "ASP5q1AGZq_u"
   },
   "outputs": [],
   "source": [
    "label_list = np.array([int(label) for label in label_list])"
   ]
  },
  {
   "cell_type": "markdown",
   "metadata": {
    "colab_type": "text",
    "id": "0kHmFtBBYPzz"
   },
   "source": [
    "### using SVM classifier for classifying reviews.\n",
    "### We are using SVM classifier as it is good to detect non linear decision boundaries and it performs well in case of very high dimentional data.\n",
    "### We used 'rbf' kernel as it works well to draw non linear decision boundaries in higher dimentional space.\n",
    "### here parameter C is regularization parameter.\n",
    "### we have tried different values C and found that C=20.0 will be that best value on terms of accuracy.\n"
   ]
  },
  {
   "cell_type": "code",
   "execution_count": 28,
   "metadata": {
    "colab": {},
    "colab_type": "code",
    "id": "pBJ-6fJmZq_z",
    "outputId": "8b4b0b38-68f7-4667-8089-4b650a75b3ef"
   },
   "outputs": [
    {
     "name": "stderr",
     "output_type": "stream",
     "text": [
      "c:\\users\\shishir\\appdata\\local\\programs\\python\\python37\\lib\\site-packages\\sklearn\\svm\\base.py:196: FutureWarning: The default value of gamma will change from 'auto' to 'scale' in version 0.22 to account better for unscaled features. Set gamma explicitly to 'auto' or 'scale' to avoid this warning.\n",
      "  \"avoid this warning.\", FutureWarning)\n"
     ]
    }
   ],
   "source": [
    " classifier = svm.SVC(C=20.0, kernel='rbf').fit(features, label_list)"
   ]
  },
  {
   "cell_type": "code",
   "execution_count": 29,
   "metadata": {
    "colab": {},
    "colab_type": "code",
    "id": "msa755TtZq_3",
    "outputId": "38a4e097-c2eb-45ae-bec9-7cb07812fb98"
   },
   "outputs": [
    {
     "name": "stdout",
     "output_type": "stream",
     "text": [
      "train accuracy:  0.9315294117647058\n"
     ]
    }
   ],
   "source": [
    "predicted_labels = classifier.predict(features)\n",
    "print('train accuracy: ', accuracy_score(label_list, predicted_labels))"
   ]
  },
  {
   "cell_type": "code",
   "execution_count": 30,
   "metadata": {
    "colab": {},
    "colab_type": "code",
    "id": "tCUdo_-AZq_8",
    "outputId": "b07ef21a-a36b-4e1d-e069-c854b29ef830"
   },
   "outputs": [
    {
     "name": "stdout",
     "output_type": "stream",
     "text": [
      "7918\n"
     ]
    }
   ],
   "source": [
    "c=0\n",
    "for i in range(len(predicted_labels)):\n",
    "    if predicted_labels[i] == label_list[i]:\n",
    "        c+=1\n",
    "print(c)"
   ]
  },
  {
   "cell_type": "code",
   "execution_count": 31,
   "metadata": {
    "colab": {},
    "colab_type": "code",
    "id": "PLqDfkffZrAB",
    "outputId": "ee82621e-7af5-4e55-d9af-42365b08ddaf"
   },
   "outputs": [
    {
     "data": {
      "text/plain": [
       "8500"
      ]
     },
     "execution_count": 31,
     "metadata": {},
     "output_type": "execute_result"
    }
   ],
   "source": [
    "len(predicted_labels)"
   ]
  },
  {
   "cell_type": "code",
   "execution_count": 32,
   "metadata": {
    "colab": {},
    "colab_type": "code",
    "id": "0myV2JaTZrAF"
   },
   "outputs": [],
   "source": [
    "test_sent_list,test_label_list = read_csv('C:\\\\Users\\\\Shishir\\\\data\\\\SubtaskA_Trial_Test_Labeled.csv')\n",
    "test_sent_list = test_sent_list[1:]\n",
    "test_label_list = test_label_list[1:]\n",
    "test_label_list = np.array([int(label) for label in test_label_list])\n",
    "test_features = get_features(test_sent_list)"
   ]
  },
  {
   "cell_type": "code",
   "execution_count": null,
   "metadata": {
    "colab": {},
    "colab_type": "code",
    "id": "sT4Bx2k9ZrAJ"
   },
   "outputs": [],
   "source": []
  },
  {
   "cell_type": "code",
   "execution_count": 33,
   "metadata": {
    "colab": {},
    "colab_type": "code",
    "id": "V1uWkMh8ZrAM"
   },
   "outputs": [],
   "source": [
    "predicted_labels_test= classifier.predict(test_features)"
   ]
  },
  {
   "cell_type": "code",
   "execution_count": 34,
   "metadata": {
    "colab": {},
    "colab_type": "code",
    "id": "Y9X4NXZpZrAQ",
    "outputId": "46e4204c-8e82-4605-f11e-67812aaa8b56"
   },
   "outputs": [
    {
     "data": {
      "text/plain": [
       "592"
      ]
     },
     "execution_count": 34,
     "metadata": {},
     "output_type": "execute_result"
    }
   ],
   "source": [
    "len(predicted_labels_test)"
   ]
  },
  {
   "cell_type": "code",
   "execution_count": 35,
   "metadata": {
    "colab": {},
    "colab_type": "code",
    "id": "SoMCbW1IZrAW",
    "outputId": "b090e216-59f7-4cec-f963-2d826648f868"
   },
   "outputs": [
    {
     "name": "stdout",
     "output_type": "stream",
     "text": [
      "592\n",
      "424\n"
     ]
    }
   ],
   "source": [
    "print(len(test_sent_list))\n",
    "c=0\n",
    "for i in range(len(predicted_labels_test)):\n",
    "    if predicted_labels_test[i] == test_label_list[i]:\n",
    "        c+=1\n",
    "print(c)"
   ]
  },
  {
   "cell_type": "code",
   "execution_count": 36,
   "metadata": {
    "colab": {},
    "colab_type": "code",
    "id": "P04S0qmZZrAc",
    "outputId": "5eacee9c-e6df-4df4-f07a-15d7df798ca3"
   },
   "outputs": [
    {
     "name": "stdout",
     "output_type": "stream",
     "text": [
      "296 296\n"
     ]
    }
   ],
   "source": [
    "c1 = 0\n",
    "c2 = 0\n",
    "for i in range(len(test_label_list)):\n",
    "    if test_label_list[i] == 0:\n",
    "        c1+=1\n",
    "    else:\n",
    "        c2+=1\n",
    "print(c1, c2)"
   ]
  },
  {
   "cell_type": "markdown",
   "metadata": {
    "colab_type": "text",
    "id": "8SIoFPcKb1TC"
   },
   "source": [
    "### classification report"
   ]
  },
  {
   "cell_type": "code",
   "execution_count": 37,
   "metadata": {
    "colab": {},
    "colab_type": "code",
    "id": "TN3-SdxOZrAg",
    "outputId": "435fb2d9-65d3-464a-98c3-43811972ad3e"
   },
   "outputs": [
    {
     "name": "stdout",
     "output_type": "stream",
     "text": [
      "              precision    recall  f1-score   support\n",
      "\n",
      "           0       0.67      0.84      0.75       296\n",
      "           1       0.79      0.59      0.68       296\n",
      "\n",
      "   micro avg       0.72      0.72      0.72       592\n",
      "   macro avg       0.73      0.72      0.71       592\n",
      "weighted avg       0.73      0.72      0.71       592\n",
      "\n"
     ]
    }
   ],
   "source": [
    "print(classification_report(test_label_list, predicted_labels_test, target_names=['0', '1']))"
   ]
  },
  {
   "cell_type": "code",
   "execution_count": 44,
   "metadata": {},
   "outputs": [
    {
     "name": "stdout",
     "output_type": "stream",
     "text": [
      "test accuracy:  0.7162162162162162\n"
     ]
    }
   ],
   "source": [
    "print('test accuracy: ', accuracy_score(test_label_list, predicted_labels_test))"
   ]
  },
  {
   "cell_type": "markdown",
   "metadata": {
    "colab_type": "text",
    "id": "-nnVVIAMb7Jc"
   },
   "source": [
    "### confusion matrix"
   ]
  },
  {
   "cell_type": "code",
   "execution_count": 45,
   "metadata": {
    "colab": {},
    "colab_type": "code",
    "id": "3mAZG25bZrAk"
   },
   "outputs": [],
   "source": [
    "cm = confusion_matrix(test_label_list, predicted_labels_test)"
   ]
  },
  {
   "cell_type": "code",
   "execution_count": 46,
   "metadata": {
    "colab": {},
    "colab_type": "code",
    "id": "NgW1xYnFZrAn"
   },
   "outputs": [],
   "source": [
    "def plot_confusion_matrix(mat, labels):\n",
    "    df_cm = pd.DataFrame(mat, index = labels,\n",
    "                  columns = labels)\n",
    "    plt.figure(figsize = (6,4))\n",
    "    sn.heatmap(df_cm, annot=True)"
   ]
  },
  {
   "cell_type": "code",
   "execution_count": 47,
   "metadata": {
    "colab": {},
    "colab_type": "code",
    "id": "HwlnN_r9ZrAt",
    "outputId": "f2a64e86-9abf-4c1d-c70a-de889505ff9c"
   },
   "outputs": [
    {
     "data": {
      "image/png": "[encoded data removed]",
      "text/plain": [
       "<Figure size 432x288 with 2 Axes>"
      ]
     },
     "metadata": {
      "needs_background": "light"
     },
     "output_type": "display_data"
    }
   ],
   "source": [
    "plot_confusion_matrix(cm, ['0','1'])"
   ]
  },
  {
   "cell_type": "markdown",
   "metadata": {},
   "source": [
    "## since there is an imbalance in precision and recall values of both classes.\n",
    "## It may be because of class imbalance. So lets handle class imbalance by imposing penalty to imbalanced class.\n",
    "## we can do this by adding parameter class_weight = {1:3} as class 0 and class 1 is approx 3:1. "
   ]
  },
  {
   "cell_type": "markdown",
   "metadata": {
    "colab_type": "text",
    "id": "KOt7kD0JI3mM"
   },
   "source": [
    "# Handling class imbalance"
   ]
  },
  {
   "cell_type": "code",
   "execution_count": 49,
   "metadata": {
    "colab": {},
    "colab_type": "code",
    "id": "15ancJcNZrA1",
    "outputId": "d6e721ae-f6fd-43f6-abc3-c404150c342d"
   },
   "outputs": [
    {
     "name": "stderr",
     "output_type": "stream",
     "text": [
      "c:\\users\\shishir\\appdata\\local\\programs\\python\\python37\\lib\\site-packages\\sklearn\\svm\\base.py:196: FutureWarning: The default value of gamma will change from 'auto' to 'scale' in version 0.22 to account better for unscaled features. Set gamma explicitly to 'auto' or 'scale' to avoid this warning.\n",
      "  \"avoid this warning.\", FutureWarning)\n"
     ]
    }
   ],
   "source": [
    "weighted_classifier = svm.SVC(C=1.0, kernel='rbf',class_weight={1:3}).fit(features, label_list)"
   ]
  },
  {
   "cell_type": "code",
   "execution_count": 50,
   "metadata": {
    "colab": {},
    "colab_type": "code",
    "id": "S43EDBxJZrAx",
    "outputId": "0787b849-be26-4015-d587-dab90703f51b"
   },
   "outputs": [
    {
     "name": "stdout",
     "output_type": "stream",
     "text": [
      "accuracy:  0.7162162162162162\n"
     ]
    }
   ],
   "source": [
    "print('accuracy: ', accuracy_score(test_label_list, predicted_labels_test))"
   ]
  },
  {
   "cell_type": "code",
   "execution_count": 51,
   "metadata": {
    "colab": {},
    "colab_type": "code",
    "id": "z1geX67TZrA9",
    "outputId": "8de1c3ad-e7f3-498b-d3bd-fd84f81850e1"
   },
   "outputs": [
    {
     "name": "stdout",
     "output_type": "stream",
     "text": [
      "train accuracy:  0.8223529411764706\n"
     ]
    }
   ],
   "source": [
    "predicted_labels = weighted_classifier.predict(features)\n",
    "print('train accuracy: ', accuracy_score(label_list, predicted_labels))"
   ]
  },
  {
   "cell_type": "code",
   "execution_count": 53,
   "metadata": {
    "colab": {},
    "colab_type": "code",
    "id": "_YMNBioYZrBC",
    "outputId": "677317ec-81d0-4b7c-eda7-67d456e90e2b"
   },
   "outputs": [
    {
     "name": "stdout",
     "output_type": "stream",
     "text": [
      "              precision    recall  f1-score   support\n",
      "\n",
      "           0       0.71      0.73      0.72       296\n",
      "           1       0.72      0.70      0.71       296\n",
      "\n",
      "   micro avg       0.71      0.71      0.71       592\n",
      "   macro avg       0.71      0.71      0.71       592\n",
      "weighted avg       0.71      0.71      0.71       592\n",
      "\n"
     ]
    },
    {
     "data": {
      "image/png": "[encoded data removed]",
      "text/plain": [
       "<Figure size 432x288 with 2 Axes>"
      ]
     },
     "metadata": {
      "needs_background": "light"
     },
     "output_type": "display_data"
    }
   ],
   "source": [
    "test_sent_list,test_label_list = read_csv('C:\\\\Users\\\\Shishir\\\\data\\\\SubtaskA_Trial_Test_Labeled.csv')\n",
    "test_sent_list = test_sent_list[1:]\n",
    "test_label_list = test_label_list[1:]\n",
    "test_label_list = np.array([int(label) for label in test_label_list])\n",
    "test_features = get_features(test_sent_list)\n",
    "predicted_labels_test= weighted_classifier.predict(test_features)\n",
    "print(classification_report(test_label_list, predicted_labels_test, target_names=['0', '1']))\n",
    "cm = confusion_matrix(test_label_list, predicted_labels_test)\n",
    "plot_confusion_matrix(cm, ['0','1'])"
   ]
  },
  {
   "cell_type": "code",
   "execution_count": 55,
   "metadata": {
    "colab_type": "text",
    "id": "8gCtvyIyZrBJ"
   },
   "outputs": [
    {
     "name": "stdout",
     "output_type": "stream",
     "text": [
      "test accuracy:  0.714527027027027\n"
     ]
    }
   ],
   "source": [
    "print('test accuracy: ', accuracy_score(test_label_list, predicted_labels_test))"
   ]
  },
  {
   "cell_type": "markdown",
   "metadata": {},
   "source": [
    "## as we can observe that test accuracy after handling class imbalance is almost remains same but per precision and recall has improved."
   ]
  },
  {
   "cell_type": "markdown",
   "metadata": {
    "colab_type": "text",
    "id": "DOimu1Z3ZrBL"
   },
   "source": [
    "## RNN LSTM IMPLEMENTATION"
   ]
  },
  {
   "cell_type": "code",
   "execution_count": 56,
   "metadata": {
    "colab": {},
    "colab_type": "code",
    "id": "Po2MZOzMZrBM"
   },
   "outputs": [],
   "source": [
    "# sent_list,label_list\n",
    "\n",
    "from string import punctuation\n",
    "\n",
    "# get rid of punctuation\n",
    "# reviews = reviews.lower() # lowercase, standardize\n",
    "sent_list_1 = [sent[1].lower() for sent in sent_list]\n",
    "\n",
    "for i in range(len(sent_list_1)):\n",
    "    sent = sent_list_1[i]\n",
    "    sent = ''.join([c for c in sent if c not in punctuation])\n",
    "    sent_list_1[i] = sent\n",
    "    \n",
    "all_text = ' '.join(sent_list_1)\n",
    "\n",
    "# create a list of words\n",
    "words = all_text.split()"
   ]
  },
  {
   "cell_type": "code",
   "execution_count": 0,
   "metadata": {
    "colab": {},
    "colab_type": "code",
    "id": "E5wOFvoOZrBR"
   },
   "outputs": [],
   "source": []
  },
  {
   "cell_type": "code",
   "execution_count": 0,
   "metadata": {
    "colab": {},
    "colab_type": "code",
    "id": "k3AN2jR3ZrBX"
   },
   "outputs": [],
   "source": [
    "# feel free to use this import \n",
    "from collections import Counter\n",
    "\n",
    "## Build a dictionary that maps words to integers\n",
    "counts = Counter(words)\n",
    "vocab = sorted(counts, key=counts.get, reverse=True)\n",
    "vocab_to_int = {word: ii for ii, word in enumerate(vocab, 1)}\n",
    "\n",
    "## use the dict to tokenize each review in reviews_split\n",
    "## store the tokenized reviews in reviews_ints\n",
    "sent_ints = []\n",
    "for sent in sent_list_1:\n",
    "    sent_ints.append([vocab_to_int[word] for word in sent.split()])"
   ]
  },
  {
   "cell_type": "code",
   "execution_count": 0,
   "metadata": {
    "colab": {},
    "colab_type": "code",
    "id": "b4gQ-CTNZrBd"
   },
   "outputs": [],
   "source": []
  },
  {
   "cell_type": "code",
   "execution_count": 11,
   "metadata": {
    "colab": {
     "base_uri": "https://localhost:8080/",
     "height": 110
    },
    "colab_type": "code",
    "id": "HbR7mflBZrBo",
    "outputId": "6c3989d5-3e68-41d6-ca07-ab63babd1520"
   },
   "outputs": [
    {
     "name": "stdout",
     "output_type": "stream",
     "text": [
      "Unique words:  10529\n",
      "\n",
      "Tokenized review: \n",
      " [[45, 353, 1093, 245, 94, 33, 1, 207, 219, 245, 820, 10, 100, 24, 20, 845, 420, 870, 4, 1906, 2669, 4, 20, 574, 13, 800, 2, 1, 54, 75, 8, 730, 283, 1046, 2, 165, 1, 2670, 283, 1046, 43, 6, 457]]\n"
     ]
    }
   ],
   "source": [
    "# stats about vocabulary\n",
    "print('Unique words: ', len((vocab_to_int)))  # should ~ 74000+\n",
    "print()\n",
    "\n",
    "# print tokens in first review\n",
    "print('Tokenized review: \\n', sent_ints[:1])"
   ]
  },
  {
   "cell_type": "code",
   "execution_count": 0,
   "metadata": {
    "colab": {},
    "colab_type": "code",
    "id": "S-DKPHzlZrBv"
   },
   "outputs": [],
   "source": [
    "encoded_labels = label_list"
   ]
  },
  {
   "cell_type": "code",
   "execution_count": 13,
   "metadata": {
    "colab": {
     "base_uri": "https://localhost:8080/",
     "height": 54
    },
    "colab_type": "code",
    "id": "DJ2NnV7tZrB0",
    "outputId": "671cd8dd-88c9-4b43-fc3f-75616cf22c6a"
   },
   "outputs": [
    {
     "name": "stdout",
     "output_type": "stream",
     "text": [
      "Zero-length reviews: 13\n",
      "Maximum review length: 343\n"
     ]
    }
   ],
   "source": [
    "# outlier review stats\n",
    "sent_lens = Counter([len(x) for x in sent_ints])\n",
    "print(\"Zero-length reviews: {}\".format(sent_lens[0]))\n",
    "print(\"Maximum review length: {}\".format(max(sent_lens)))"
   ]
  },
  {
   "cell_type": "code",
   "execution_count": 14,
   "metadata": {
    "colab": {
     "base_uri": "https://localhost:8080/",
     "height": 35
    },
    "colab_type": "code",
    "id": "6Ad2D8HJZrB6",
    "outputId": "27dd2df5-e564-497c-aad8-5a126a73b894"
   },
   "outputs": [
    {
     "name": "stdout",
     "output_type": "stream",
     "text": [
      "8500\n"
     ]
    }
   ],
   "source": [
    "# for ii, sent in enumerate(sent_ints):\n",
    "#     if len(sent) == 0:\n",
    "#         print('dvbd')\n",
    "print(len(encoded_labels))"
   ]
  },
  {
   "cell_type": "code",
   "execution_count": 15,
   "metadata": {
    "colab": {
     "base_uri": "https://localhost:8080/",
     "height": 54
    },
    "colab_type": "code",
    "id": "PLxIly13ZrCB",
    "outputId": "a1c7a8e0-d622-419d-d84b-af07d2e3ca47"
   },
   "outputs": [
    {
     "name": "stdout",
     "output_type": "stream",
     "text": [
      "Number of reviews before removing outliers:  8500\n",
      "Number of reviews after removing outliers:  8487\n"
     ]
    }
   ],
   "source": [
    "print('Number of reviews before removing outliers: ', len(sent_ints))\n",
    "\n",
    "## remove any reviews/labels with zero length from the reviews_ints list.\n",
    "\n",
    "# get indices of any reviews with length 0\n",
    "non_zero_idx = [ii for ii, sent in enumerate(sent_ints) if len(sent) != 0]\n",
    "# remove 0-length reviews and their labels\n",
    "sent_ints = [sent_ints[ii] for ii in non_zero_idx]\n",
    "encoded_labels = np.array([encoded_labels[ii] for ii in non_zero_idx])\n",
    "\n",
    "print('Number of reviews after removing outliers: ', len(sent_ints))"
   ]
  },
  {
   "cell_type": "code",
   "execution_count": 0,
   "metadata": {
    "colab": {},
    "colab_type": "code",
    "id": "b80SAXAjZrCI"
   },
   "outputs": [],
   "source": [
    "def pad_features(reviews_ints, seq_length):\n",
    "    ''' Return features of review_ints, where each review is padded with 0's \n",
    "        or truncated to the input seq_length.\n",
    "    '''\n",
    "    \n",
    "    # getting the correct rows x cols shape\n",
    "    features = np.zeros((len(reviews_ints), seq_length), dtype=int)\n",
    "    print(features.shape)\n",
    "    \n",
    "    # for each review, I grab that review and \n",
    "    for i, row in enumerate(reviews_ints):\n",
    "        val = np.array(row)[:seq_length]\n",
    "#         print(val.shape)\n",
    "        features[i, -len(row):] = np.array(row)[:seq_length]\n",
    "        \n",
    "    \n",
    "    return features"
   ]
  },
  {
   "cell_type": "code",
   "execution_count": 17,
   "metadata": {
    "colab": {
     "base_uri": "https://localhost:8080/",
     "height": 163
    },
    "colab_type": "code",
    "id": "Z21BjWIzZrCM",
    "outputId": "f40ee5bb-645c-488a-f42d-5f789ab13d2e"
   },
   "outputs": [
    {
     "name": "stdout",
     "output_type": "stream",
     "text": [
      "(8487, 200)\n",
      "[[0 0 0 ... 0 0 0]\n",
      " [0 0 0 ... 0 0 0]\n",
      " [0 0 0 ... 0 0 0]\n",
      " ...\n",
      " [0 0 0 ... 0 0 0]\n",
      " [0 0 0 ... 0 0 0]\n",
      " [0 0 0 ... 0 0 0]]\n"
     ]
    }
   ],
   "source": [
    "# Test your implementation!\n",
    "\n",
    "seq_length = 200\n",
    "\n",
    "features = pad_features(sent_ints, seq_length=seq_length)\n",
    "\n",
    "## test statements - do not change - ##\n",
    "assert len(features)==len(sent_ints), \"Your features should have as many rows as reviews.\"\n",
    "assert len(features[0])==seq_length, \"Each feature row should contain seq_length values.\"\n",
    "\n",
    "# print first 10 values of the first 30 batches \n",
    "print(features[:30,:50])"
   ]
  },
  {
   "cell_type": "code",
   "execution_count": 18,
   "metadata": {
    "colab": {
     "base_uri": "https://localhost:8080/",
     "height": 72
    },
    "colab_type": "code",
    "id": "RIpz7HayZrCR",
    "outputId": "9443bb9e-f5fc-45eb-d5ce-0ed1d0b3bca6"
   },
   "outputs": [
    {
     "name": "stdout",
     "output_type": "stream",
     "text": [
      "\t\t\tFeature Shapes:\n",
      "Train set: \t\t(7638, 200) \n",
      "Validation set: \t(849, 200)\n"
     ]
    }
   ],
   "source": [
    "split_frac = 0.9\n",
    "\n",
    "## split data into training, validation, and test data (features and labels, x and y)\n",
    "\n",
    "split_idx = int(len(features)*split_frac)\n",
    "train_x, remaining_x = features[:split_idx], features[split_idx:]\n",
    "train_y, remaining_y = encoded_labels[:split_idx], encoded_labels[split_idx:]\n",
    "\n",
    "# test_idx = int(len(remaining_x)*0.5)\n",
    "# val_x, test_x = remaining_x[:test_idx], remaining_x[test_idx:]\n",
    "# val_y, test_y = remaining_y[:test_idx], remaining_y[test_idx:]\n",
    "\n",
    "val_x = remaining_x\n",
    "val_y = remaining_y\n",
    "# val_x = val_x[:800]\n",
    "# val_y = val_y[:800]\n",
    "# train_x = train_x[:7600]\n",
    "# train_y = train_y[:7600]\n",
    "\n",
    "## print out the shapes of your resultant feature data\n",
    "print(\"\\t\\t\\tFeature Shapes:\")\n",
    "print(\"Train set: \\t\\t{}\".format(train_x.shape), \n",
    "      \"\\nValidation set: \\t{}\".format(val_x.shape))"
   ]
  },
  {
   "cell_type": "code",
   "execution_count": 0,
   "metadata": {
    "colab": {},
    "colab_type": "code",
    "id": "W4iHKwJAZrCX"
   },
   "outputs": [],
   "source": [
    "import torch\n",
    "from torch.utils.data import TensorDataset, DataLoader\n",
    "\n",
    "# create Tensor datasets\n",
    "train_data = TensorDataset(torch.from_numpy(train_x), torch.from_numpy(train_y))\n",
    "valid_data = TensorDataset(torch.from_numpy(val_x), torch.from_numpy(val_y))\n",
    "# test_data = TensorDataset(torch.from_numpy(test_x), torch.from_numpy(test_y))\n",
    "\n",
    "# dataloaders\n",
    "batch_size = 50\n",
    "\n",
    "# make sure the SHUFFLE your training data\n",
    "train_loader = DataLoader(train_data, shuffle=True, batch_size=batch_size)\n",
    "valid_loader = DataLoader(valid_data, shuffle=True, batch_size=batch_size)\n",
    "# test_loader = DataLoader(test_data, shuffle=True, batch_size=batch_size)"
   ]
  },
  {
   "cell_type": "code",
   "execution_count": 20,
   "metadata": {
    "colab": {
     "base_uri": "https://localhost:8080/",
     "height": 290
    },
    "colab_type": "code",
    "id": "DVnfq9LlZrCa",
    "outputId": "024444b7-459b-4401-b2cd-e5b55fd5435b"
   },
   "outputs": [
    {
     "name": "stdout",
     "output_type": "stream",
     "text": [
      "Sample input size:  torch.Size([50, 200])\n",
      "Sample input: \n",
      " tensor([[    0,     0,     0,  ...,     5,   293,   393],\n",
      "        [    0,     0,     0,  ...,  1364,    41, 10262],\n",
      "        [    0,     0,     0,  ...,  1531,     9,  2308],\n",
      "        ...,\n",
      "        [    0,     0,     0,  ...,    32,  1377,    94],\n",
      "        [    0,     0,     0,  ...,   495,   158,   108],\n",
      "        [    0,     0,     0,  ...,     3,   229,    14]])\n",
      "\n",
      "Sample label size:  torch.Size([50])\n",
      "Sample label: \n",
      " tensor([0, 1, 1, 1, 1, 0, 0, 0, 0, 0, 1, 0, 0, 0, 1, 0, 0, 1, 1, 0, 1, 0, 1, 1,\n",
      "        0, 0, 0, 0, 0, 1, 0, 0, 0, 0, 1, 0, 0, 1, 0, 0, 0, 0, 1, 0, 0, 1, 0, 0,\n",
      "        1, 1])\n"
     ]
    }
   ],
   "source": [
    "# obtain one batch of training data\n",
    "dataiter = iter(valid_loader)\n",
    "sample_x, sample_y = dataiter.next()\n",
    "\n",
    "print('Sample input size: ', sample_x.size()) # batch_size, seq_length\n",
    "print('Sample input: \\n', sample_x)\n",
    "print()\n",
    "print('Sample label size: ', sample_y.size()) # batch_size\n",
    "print('Sample label: \\n', sample_y)"
   ]
  },
  {
   "cell_type": "code",
   "execution_count": 21,
   "metadata": {
    "colab": {
     "base_uri": "https://localhost:8080/",
     "height": 35
    },
    "colab_type": "code",
    "id": "oguKXAAgZrCd",
    "outputId": "24052783-846d-451b-c481-f4c8990e3318"
   },
   "outputs": [
    {
     "name": "stdout",
     "output_type": "stream",
     "text": [
      "Training on GPU.\n"
     ]
    }
   ],
   "source": [
    "# First checking if GPU is available\n",
    "train_on_gpu=torch.cuda.is_available()\n",
    "\n",
    "if(train_on_gpu):\n",
    "    print('Training on GPU.')\n",
    "else:\n",
    "    print('No GPU available, training on CPU.')"
   ]
  },
  {
   "cell_type": "code",
   "execution_count": 0,
   "metadata": {
    "colab": {},
    "colab_type": "code",
    "id": "A5EvBBA3ZrCg"
   },
   "outputs": [],
   "source": [
    "import torch.nn as nn\n",
    "from torch.autograd import Variable\n",
    "\n",
    "class SentimentRNN(nn.Module):\n",
    "    \"\"\"\n",
    "    The RNN model that will be used to perform Sentiment analysis.\n",
    "    \"\"\"\n",
    "\n",
    "    def __init__(self, vocab_size, output_size, embedding_dim, hidden_dim, n_layers, drop_prob=0.5):\n",
    "        \"\"\"\n",
    "        Initialize the model by setting up the layers.\n",
    "        \"\"\"\n",
    "        super(SentimentRNN, self).__init__()\n",
    "\n",
    "        self.output_size = output_size\n",
    "        self.n_layers = n_layers\n",
    "        self.hidden_dim = hidden_dim\n",
    "        self.hidden_size = hidden_dim\n",
    "        self.batch_size = batch_size\n",
    "        \n",
    "        # embedding and LSTM layers\n",
    "        self.embedding = nn.Embedding(vocab_size, embedding_dim)\n",
    "        self.lstm = nn.LSTM(embedding_dim, hidden_dim, n_layers, \n",
    "                            dropout=drop_prob, batch_first=True)\n",
    "        \n",
    "        # dropout layer\n",
    "        self.dropout = nn.Dropout(0.3)\n",
    "        \n",
    "        # linear and sigmoid layers\n",
    "        self.fc = nn.Linear(hidden_dim, output_size)\n",
    "        self.sig = nn.Sigmoid()\n",
    "        \n",
    "\n",
    "    def forward(self, x):\n",
    "        \"\"\"\n",
    "        Perform a forward pass of our model on some input and hidden state.\n",
    "        \"\"\"\n",
    "        batch_size = x.size(0)\n",
    "\n",
    "        h = Variable(torch.zeros(self.n_layers, x.size(0), self.hidden_size)) \n",
    "        c = Variable(torch.zeros(self.n_layers, x.size(0), self.hidden_size))\n",
    "        \n",
    "        # embeddings and lstm_out\n",
    "#         x = x.long()\n",
    "        embeds = self.embedding(x)\n",
    "        \n",
    "#         lstm_out, hidden = self.lstm(embeds, hidden)\n",
    "        lstm_out, _ = self.lstm(embeds, (h, c))\n",
    "  \n",
    "    \n",
    "#         stack up lstm outputs\n",
    "#         lstm_out = lstm_out.contiguous().view(-1, self.hidden_dim)\n",
    "        \n",
    "#         # dropout and fully-connected layer\n",
    "#         out = self.dropout(lstm_out)\n",
    "#         out = self.fc(out)\n",
    "#         # sigmoid function\n",
    "#         sig_out = self.sig(out)\n",
    "        \n",
    "#         # reshape to be batch_size first\n",
    "#         sig_out = sig_out.view(batch_size, -1)\n",
    "#         sig_out = sig_out[:, -1] # get last batch of labels\n",
    "        \n",
    "#         # return last sigmoid output and hidden state\n",
    "\n",
    "        sig_out = self.fc(lstm_out[:,-1,:])\n",
    "        sig_out = self.sig(sig_out)\n",
    "        return sig_out\n",
    "    \n",
    "    \n",
    "    def init_hidden(self, batch_size):\n",
    "        ''' Initializes hidden state '''\n",
    "        # Create two new tensors with sizes n_layers x batch_size x hidden_dim,\n",
    "        # initialized to zero, for hidden state and cell state of LSTM\n",
    "        weight = next(self.parameters()).data\n",
    "        \n",
    "        if (train_on_gpu):\n",
    "            hidden = (weight.new(self.n_layers, batch_size, self.hidden_dim).zero_().cuda(),\n",
    "                  weight.new(self.n_layers, batch_size, self.hidden_dim).zero_().cuda())\n",
    "        else:\n",
    "            hidden = (weight.new(self.n_layers, batch_size, self.hidden_dim).zero_(),\n",
    "                      weight.new(self.n_layers, batch_size, self.hidden_dim).zero_())\n",
    "        \n",
    "        return hidden"
   ]
  },
  {
   "cell_type": "code",
   "execution_count": 23,
   "metadata": {
    "colab": {
     "base_uri": "https://localhost:8080/",
     "height": 145
    },
    "colab_type": "code",
    "id": "LkZY4u2ZZrCk",
    "outputId": "857316a7-cfae-4f5e-ffa3-9beb1f4ed989"
   },
   "outputs": [
    {
     "name": "stdout",
     "output_type": "stream",
     "text": [
      "SentimentRNN(\n",
      "  (embedding): Embedding(10530, 400)\n",
      "  (lstm): LSTM(400, 256, num_layers=2, batch_first=True, dropout=0.5)\n",
      "  (dropout): Dropout(p=0.3)\n",
      "  (fc): Linear(in_features=256, out_features=1, bias=True)\n",
      "  (sig): Sigmoid()\n",
      ")\n"
     ]
    }
   ],
   "source": [
    "# Instantiate the model w/ hyperparams\n",
    "vocab_size = len(vocab_to_int)+1 # +1 for the 0 padding + our word tokens\n",
    "output_size = 1\n",
    "embedding_dim = 400\n",
    "hidden_dim = 256\n",
    "n_layers = 2\n",
    "\n",
    "net = SentimentRNN(vocab_size, output_size, embedding_dim, hidden_dim, n_layers)\n",
    "\n",
    "print(net)"
   ]
  },
  {
   "cell_type": "code",
   "execution_count": 0,
   "metadata": {
    "colab": {},
    "colab_type": "code",
    "id": "hdQOwjtXZrCq"
   },
   "outputs": [],
   "source": [
    "# loss and optimization functions\n",
    "lr=0.001\n",
    "\n",
    "criterion = nn.BCELoss()\n",
    "optimizer = torch.optim.Adam(net.parameters(), lr=lr)"
   ]
  },
  {
   "cell_type": "code",
   "execution_count": 0,
   "metadata": {
    "colab": {
     "base_uri": "https://localhost:8080/",
     "height": 5710
    },
    "colab_type": "code",
    "id": "xnYLjIwIZrCv",
    "outputId": "6855cd62-1a0b-4735-c2b2-c8615f216f63"
   },
   "outputs": [
    {
     "name": "stdout",
     "output_type": "stream",
     "text": [
      "epoch started:  0\n"
     ]
    },
    {
     "name": "stderr",
     "output_type": "stream",
     "text": [
      "/usr/local/lib/python3.6/dist-packages/torch/nn/functional.py:2016: UserWarning: Using a target size (torch.Size([50])) that is different to the input size (torch.Size([50, 1])) is deprecated. Please ensure they have the same size.\n",
      "  \"Please ensure they have the same size.\".format(target.size(), input.size()))\n"
     ]
    },
    {
     "name": "stdout",
     "output_type": "stream",
     "text": [
      "loss tensor(0.2642, grad_fn=<DivBackward0>)\n",
      "loss tensor(0.2374, grad_fn=<DivBackward0>)\n",
      "loss tensor(0.1382, grad_fn=<DivBackward0>)\n",
      "loss tensor(0.0826, grad_fn=<DivBackward0>)\n",
      "loss tensor(0.0660, grad_fn=<DivBackward0>)\n",
      "loss tensor(0.0474, grad_fn=<DivBackward0>)\n",
      "loss tensor(0.0411, grad_fn=<DivBackward0>)\n",
      "loss tensor(0.0349, grad_fn=<DivBackward0>)\n",
      "loss tensor(0.0503, grad_fn=<DivBackward0>)\n",
      "loss tensor(0.0441, grad_fn=<DivBackward0>)\n",
      "loss tensor(0.0198, grad_fn=<DivBackward0>)\n",
      "loss tensor(0.0309, grad_fn=<DivBackward0>)\n",
      "loss tensor(0.0368, grad_fn=<DivBackward0>)\n",
      "loss tensor(0.0276, grad_fn=<DivBackward0>)\n",
      "loss tensor(0.0262, grad_fn=<DivBackward0>)\n",
      "loss tensor(0.0210, grad_fn=<DivBackward0>)\n",
      "loss tensor(0.0228, grad_fn=<DivBackward0>)\n",
      "loss tensor(0.0208, grad_fn=<DivBackward0>)\n",
      "loss tensor(0.0227, grad_fn=<DivBackward0>)\n",
      "loss tensor(0.0165, grad_fn=<DivBackward0>)\n",
      "loss tensor(0.0218, grad_fn=<DivBackward0>)\n",
      "loss tensor(0.0122, grad_fn=<DivBackward0>)\n",
      "loss tensor(0.0176, grad_fn=<DivBackward0>)\n",
      "loss tensor(0.0169, grad_fn=<DivBackward0>)\n",
      "loss tensor(0.0086, grad_fn=<DivBackward0>)\n",
      "loss tensor(0.0127, grad_fn=<DivBackward0>)\n",
      "loss tensor(0.0103, grad_fn=<DivBackward0>)\n",
      "loss tensor(0.0127, grad_fn=<DivBackward0>)\n",
      "loss tensor(0.0143, grad_fn=<DivBackward0>)\n",
      "loss tensor(0.0082, grad_fn=<DivBackward0>)\n",
      "loss tensor(0.0127, grad_fn=<DivBackward0>)\n",
      "loss tensor(0.0062, grad_fn=<DivBackward0>)\n",
      "loss tensor(0.0136, grad_fn=<DivBackward0>)\n",
      "loss tensor(0.0037, grad_fn=<DivBackward0>)\n",
      "loss tensor(0.0135, grad_fn=<DivBackward0>)\n",
      "loss tensor(0.0070, grad_fn=<DivBackward0>)\n",
      "loss tensor(0.0112, grad_fn=<DivBackward0>)\n",
      "loss tensor(0.0094, grad_fn=<DivBackward0>)\n",
      "loss tensor(0.0098, grad_fn=<DivBackward0>)\n",
      "loss tensor(0.0064, grad_fn=<DivBackward0>)\n",
      "loss tensor(0.0062, grad_fn=<DivBackward0>)\n",
      "loss tensor(0.0101, grad_fn=<DivBackward0>)\n",
      "loss tensor(0.0078, grad_fn=<DivBackward0>)\n",
      "loss tensor(0.0065, grad_fn=<DivBackward0>)\n",
      "loss tensor(0.0060, grad_fn=<DivBackward0>)\n",
      "loss tensor(0.0112, grad_fn=<DivBackward0>)\n",
      "loss tensor(0.0061, grad_fn=<DivBackward0>)\n",
      "loss tensor(0.0105, grad_fn=<DivBackward0>)\n",
      "loss tensor(0.0066, grad_fn=<DivBackward0>)\n",
      "loss tensor(0.0061, grad_fn=<DivBackward0>)\n",
      "loss tensor(0.0043, grad_fn=<DivBackward0>)\n",
      "loss tensor(0.0080, grad_fn=<DivBackward0>)\n",
      "loss tensor(0.0058, grad_fn=<DivBackward0>)\n",
      "loss tensor(0.0059, grad_fn=<DivBackward0>)\n",
      "loss tensor(0.0066, grad_fn=<DivBackward0>)\n",
      "loss tensor(0.0060, grad_fn=<DivBackward0>)\n",
      "loss tensor(0.0055, grad_fn=<DivBackward0>)\n",
      "loss tensor(0.0064, grad_fn=<DivBackward0>)\n",
      "loss tensor(0.0052, grad_fn=<DivBackward0>)\n",
      "loss tensor(0.0039, grad_fn=<DivBackward0>)\n",
      "loss tensor(0.0035, grad_fn=<DivBackward0>)\n",
      "loss tensor(0.0057, grad_fn=<DivBackward0>)\n",
      "loss tensor(0.0035, grad_fn=<DivBackward0>)\n",
      "loss tensor(0.0050, grad_fn=<DivBackward0>)\n",
      "loss tensor(0.0063, grad_fn=<DivBackward0>)\n",
      "loss tensor(0.0058, grad_fn=<DivBackward0>)\n",
      "loss tensor(0.0063, grad_fn=<DivBackward0>)\n",
      "loss tensor(0.0049, grad_fn=<DivBackward0>)\n",
      "loss tensor(0.0062, grad_fn=<DivBackward0>)\n",
      "loss tensor(0.0041, grad_fn=<DivBackward0>)\n",
      "loss tensor(0.0047, grad_fn=<DivBackward0>)\n",
      "loss tensor(0.0036, grad_fn=<DivBackward0>)\n",
      "loss tensor(0.0028, grad_fn=<DivBackward0>)\n",
      "loss tensor(0.0053, grad_fn=<DivBackward0>)\n",
      "loss tensor(0.0047, grad_fn=<DivBackward0>)\n",
      "loss tensor(0.0037, grad_fn=<DivBackward0>)\n",
      "loss tensor(0.0051, grad_fn=<DivBackward0>)\n",
      "loss tensor(0.0051, grad_fn=<DivBackward0>)\n",
      "loss tensor(0.0047, grad_fn=<DivBackward0>)\n",
      "loss tensor(0.0036, grad_fn=<DivBackward0>)\n",
      "loss tensor(0.0042, grad_fn=<DivBackward0>)\n",
      "loss tensor(0.0036, grad_fn=<DivBackward0>)\n",
      "loss tensor(0.0043, grad_fn=<DivBackward0>)\n",
      "loss tensor(0.0042, grad_fn=<DivBackward0>)\n",
      "loss tensor(0.0029, grad_fn=<DivBackward0>)\n",
      "loss tensor(0.0030, grad_fn=<DivBackward0>)\n",
      "loss tensor(0.0018, grad_fn=<DivBackward0>)\n",
      "loss tensor(0.0043, grad_fn=<DivBackward0>)\n",
      "loss tensor(0.0053, grad_fn=<DivBackward0>)\n",
      "loss tensor(0.0051, grad_fn=<DivBackward0>)\n",
      "loss tensor(0.0055, grad_fn=<DivBackward0>)\n",
      "loss tensor(0.0048, grad_fn=<DivBackward0>)\n",
      "loss tensor(0.0032, grad_fn=<DivBackward0>)\n",
      "loss tensor(0.0038, grad_fn=<DivBackward0>)\n",
      "loss tensor(0.0040, grad_fn=<DivBackward0>)\n",
      "loss tensor(0.0040, grad_fn=<DivBackward0>)\n",
      "loss tensor(0.0039, grad_fn=<DivBackward0>)\n",
      "loss tensor(0.0037, grad_fn=<DivBackward0>)\n",
      "loss tensor(0.0028, grad_fn=<DivBackward0>)\n",
      "loss tensor(0.0022, grad_fn=<DivBackward0>)\n",
      "loss tensor(0.0036, grad_fn=<DivBackward0>)\n",
      "loss tensor(0.0034, grad_fn=<DivBackward0>)\n",
      "loss tensor(0.0043, grad_fn=<DivBackward0>)\n",
      "loss tensor(0.0030, grad_fn=<DivBackward0>)\n",
      "loss tensor(0.0044, grad_fn=<DivBackward0>)\n",
      "loss tensor(0.0043, grad_fn=<DivBackward0>)\n",
      "loss tensor(0.0024, grad_fn=<DivBackward0>)\n",
      "loss tensor(0.0031, grad_fn=<DivBackward0>)\n",
      "loss tensor(0.0045, grad_fn=<DivBackward0>)\n",
      "loss tensor(0.0047, grad_fn=<DivBackward0>)\n",
      "loss tensor(0.0021, grad_fn=<DivBackward0>)\n",
      "loss tensor(0.0024, grad_fn=<DivBackward0>)\n",
      "loss tensor(0.0036, grad_fn=<DivBackward0>)\n",
      "loss tensor(0.0024, grad_fn=<DivBackward0>)\n",
      "loss tensor(0.0036, grad_fn=<DivBackward0>)\n",
      "loss tensor(0.0023, grad_fn=<DivBackward0>)\n",
      "loss tensor(0.0032, grad_fn=<DivBackward0>)\n",
      "loss tensor(0.0024, grad_fn=<DivBackward0>)\n",
      "loss tensor(0.0016, grad_fn=<DivBackward0>)\n",
      "loss tensor(0.0023, grad_fn=<DivBackward0>)\n",
      "loss tensor(0.0040, grad_fn=<DivBackward0>)\n",
      "loss tensor(0.0031, grad_fn=<DivBackward0>)\n",
      "loss tensor(0.0017, grad_fn=<DivBackward0>)\n",
      "loss tensor(0.0031, grad_fn=<DivBackward0>)\n",
      "loss tensor(0.0028, grad_fn=<DivBackward0>)\n",
      "loss tensor(0.0052, grad_fn=<DivBackward0>)\n",
      "loss tensor(0.0022, grad_fn=<DivBackward0>)\n",
      "loss tensor(0.0022, grad_fn=<DivBackward0>)\n",
      "loss tensor(0.0024, grad_fn=<DivBackward0>)\n",
      "loss tensor(0.0020, grad_fn=<DivBackward0>)\n",
      "loss tensor(0.0028, grad_fn=<DivBackward0>)\n",
      "loss tensor(0.0019, grad_fn=<DivBackward0>)\n",
      "loss tensor(0.0016, grad_fn=<DivBackward0>)\n",
      "loss tensor(0.0024, grad_fn=<DivBackward0>)\n",
      "loss tensor(0.0021, grad_fn=<DivBackward0>)\n",
      "loss tensor(0.0015, grad_fn=<DivBackward0>)\n",
      "loss tensor(0.0027, grad_fn=<DivBackward0>)\n",
      "loss tensor(0.0019, grad_fn=<DivBackward0>)\n",
      "loss tensor(0.0025, grad_fn=<DivBackward0>)\n",
      "loss tensor(0.0023, grad_fn=<DivBackward0>)\n",
      "loss tensor(0.0025, grad_fn=<DivBackward0>)\n",
      "loss tensor(0.0018, grad_fn=<DivBackward0>)\n",
      "loss tensor(0.0025, grad_fn=<DivBackward0>)\n",
      "loss tensor(0.0021, grad_fn=<DivBackward0>)\n",
      "loss tensor(0.0043, grad_fn=<DivBackward0>)\n",
      "loss tensor(0.0023, grad_fn=<DivBackward0>)\n",
      "loss tensor(0.0019, grad_fn=<DivBackward0>)\n",
      "loss tensor(0.0018, grad_fn=<DivBackward0>)\n",
      "loss tensor(0.0025, grad_fn=<DivBackward0>)\n",
      "loss tensor(0.0028, grad_fn=<DivBackward0>)\n",
      "loss tensor(0.0022, grad_fn=<DivBackward0>)\n",
      "loss tensor(0.0017, grad_fn=<DivBackward0>)\n"
     ]
    },
    {
     "name": "stderr",
     "output_type": "stream",
     "text": [
      "/usr/local/lib/python3.6/dist-packages/torch/nn/functional.py:2016: UserWarning: Using a target size (torch.Size([38])) that is different to the input size (torch.Size([38, 1])) is deprecated. Please ensure they have the same size.\n",
      "  \"Please ensure they have the same size.\".format(target.size(), input.size()))\n"
     ]
    },
    {
     "name": "stdout",
     "output_type": "stream",
     "text": [
      "loss tensor(0.0022, grad_fn=<DivBackward0>)\n",
      "epoch started:  1\n",
      "loss tensor(0.1983, grad_fn=<DivBackward0>)\n",
      "loss tensor(0.1971, grad_fn=<DivBackward0>)\n",
      "loss tensor(0.0884, grad_fn=<DivBackward0>)\n",
      "loss tensor(0.0712, grad_fn=<DivBackward0>)\n",
      "loss tensor(0.0576, grad_fn=<DivBackward0>)\n",
      "loss tensor(0.0559, grad_fn=<DivBackward0>)\n",
      "loss tensor(0.0568, grad_fn=<DivBackward0>)\n",
      "loss tensor(0.0457, grad_fn=<DivBackward0>)\n",
      "loss tensor(0.0222, grad_fn=<DivBackward0>)\n",
      "loss tensor(0.0145, grad_fn=<DivBackward0>)\n",
      "loss tensor(0.0195, grad_fn=<DivBackward0>)\n",
      "loss tensor(0.0224, grad_fn=<DivBackward0>)\n",
      "loss tensor(0.0129, grad_fn=<DivBackward0>)\n",
      "loss tensor(0.0167, grad_fn=<DivBackward0>)\n",
      "loss tensor(0.0175, grad_fn=<DivBackward0>)\n",
      "loss tensor(0.0188, grad_fn=<DivBackward0>)\n",
      "loss tensor(0.0127, grad_fn=<DivBackward0>)\n",
      "loss tensor(0.0094, grad_fn=<DivBackward0>)\n",
      "loss tensor(0.0087, grad_fn=<DivBackward0>)\n",
      "loss tensor(0.0089, grad_fn=<DivBackward0>)\n",
      "loss tensor(0.0079, grad_fn=<DivBackward0>)\n",
      "loss tensor(0.0092, grad_fn=<DivBackward0>)\n",
      "loss tensor(0.0164, grad_fn=<DivBackward0>)\n",
      "loss tensor(0.0151, grad_fn=<DivBackward0>)\n",
      "loss tensor(0.0116, grad_fn=<DivBackward0>)\n",
      "loss tensor(0.0070, grad_fn=<DivBackward0>)\n",
      "loss tensor(0.0088, grad_fn=<DivBackward0>)\n",
      "loss tensor(0.0062, grad_fn=<DivBackward0>)\n",
      "loss tensor(0.0148, grad_fn=<DivBackward0>)\n",
      "loss tensor(0.0092, grad_fn=<DivBackward0>)\n",
      "loss tensor(0.0051, grad_fn=<DivBackward0>)\n",
      "loss tensor(0.0083, grad_fn=<DivBackward0>)\n",
      "loss tensor(0.0089, grad_fn=<DivBackward0>)\n",
      "loss tensor(0.0063, grad_fn=<DivBackward0>)\n",
      "loss tensor(0.0073, grad_fn=<DivBackward0>)\n",
      "loss tensor(0.0082, grad_fn=<DivBackward0>)\n",
      "loss tensor(0.0115, grad_fn=<DivBackward0>)\n",
      "loss tensor(0.0042, grad_fn=<DivBackward0>)\n",
      "loss tensor(0.0052, grad_fn=<DivBackward0>)\n",
      "loss tensor(0.0055, grad_fn=<DivBackward0>)\n",
      "loss tensor(0.0045, grad_fn=<DivBackward0>)\n",
      "loss tensor(0.0061, grad_fn=<DivBackward0>)\n",
      "loss tensor(0.0079, grad_fn=<DivBackward0>)\n",
      "loss tensor(0.0047, grad_fn=<DivBackward0>)\n",
      "loss tensor(0.0067, grad_fn=<DivBackward0>)\n",
      "loss tensor(0.0038, grad_fn=<DivBackward0>)\n",
      "loss tensor(0.0057, grad_fn=<DivBackward0>)\n",
      "loss tensor(0.0038, grad_fn=<DivBackward0>)\n",
      "loss tensor(0.0040, grad_fn=<DivBackward0>)\n",
      "loss tensor(0.0097, grad_fn=<DivBackward0>)\n",
      "loss tensor(0.0037, grad_fn=<DivBackward0>)\n",
      "loss tensor(0.0037, grad_fn=<DivBackward0>)\n",
      "loss tensor(0.0047, grad_fn=<DivBackward0>)\n",
      "loss tensor(0.0025, grad_fn=<DivBackward0>)\n",
      "loss tensor(0.0044, grad_fn=<DivBackward0>)\n",
      "loss tensor(0.0044, grad_fn=<DivBackward0>)\n",
      "loss tensor(0.0030, grad_fn=<DivBackward0>)\n",
      "loss tensor(0.0033, grad_fn=<DivBackward0>)\n",
      "loss tensor(0.0042, grad_fn=<DivBackward0>)\n",
      "loss tensor(0.0038, grad_fn=<DivBackward0>)\n",
      "loss tensor(0.0025, grad_fn=<DivBackward0>)\n",
      "loss tensor(0.0012, grad_fn=<DivBackward0>)\n",
      "loss tensor(0.0039, grad_fn=<DivBackward0>)\n",
      "loss tensor(0.0056, grad_fn=<DivBackward0>)\n",
      "loss tensor(0.0031, grad_fn=<DivBackward0>)\n",
      "loss tensor(0.0053, grad_fn=<DivBackward0>)\n",
      "loss tensor(0.0013, grad_fn=<DivBackward0>)\n",
      "loss tensor(0.0043, grad_fn=<DivBackward0>)\n",
      "loss tensor(0.0028, grad_fn=<DivBackward0>)\n",
      "loss tensor(0.0032, grad_fn=<DivBackward0>)\n",
      "loss tensor(0.0038, grad_fn=<DivBackward0>)\n",
      "loss tensor(0.0059, grad_fn=<DivBackward0>)\n",
      "loss tensor(0.0032, grad_fn=<DivBackward0>)\n",
      "loss tensor(0.0037, grad_fn=<DivBackward0>)\n",
      "loss tensor(0.0037, grad_fn=<DivBackward0>)\n",
      "loss tensor(0.0021, grad_fn=<DivBackward0>)\n",
      "loss tensor(0.0033, grad_fn=<DivBackward0>)\n",
      "loss tensor(0.0038, grad_fn=<DivBackward0>)\n",
      "loss tensor(0.0043, grad_fn=<DivBackward0>)\n",
      "loss tensor(0.0012, grad_fn=<DivBackward0>)\n",
      "loss tensor(0.0032, grad_fn=<DivBackward0>)\n",
      "loss tensor(0.0045, grad_fn=<DivBackward0>)\n",
      "loss tensor(0.0019, grad_fn=<DivBackward0>)\n",
      "loss tensor(0.0022, grad_fn=<DivBackward0>)\n",
      "loss tensor(0.0020, grad_fn=<DivBackward0>)\n",
      "loss tensor(0.0020, grad_fn=<DivBackward0>)\n",
      "loss tensor(0.0020, grad_fn=<DivBackward0>)\n",
      "loss tensor(0.0021, grad_fn=<DivBackward0>)\n",
      "loss tensor(0.0024, grad_fn=<DivBackward0>)\n",
      "loss tensor(0.0028, grad_fn=<DivBackward0>)\n",
      "loss tensor(0.0037, grad_fn=<DivBackward0>)\n",
      "loss tensor(0.0026, grad_fn=<DivBackward0>)\n",
      "loss tensor(0.0025, grad_fn=<DivBackward0>)\n",
      "loss tensor(0.0038, grad_fn=<DivBackward0>)\n",
      "loss tensor(0.0045, grad_fn=<DivBackward0>)\n",
      "loss tensor(0.0035, grad_fn=<DivBackward0>)\n",
      "loss tensor(0.0025, grad_fn=<DivBackward0>)\n",
      "loss tensor(0.0033, grad_fn=<DivBackward0>)\n",
      "loss tensor(0.0014, grad_fn=<DivBackward0>)\n",
      "loss tensor(0.0034, grad_fn=<DivBackward0>)\n",
      "loss tensor(0.0020, grad_fn=<DivBackward0>)\n",
      "loss tensor(0.0028, grad_fn=<DivBackward0>)\n",
      "loss tensor(0.0030, grad_fn=<DivBackward0>)\n",
      "loss tensor(0.0029, grad_fn=<DivBackward0>)\n",
      "loss tensor(0.0018, grad_fn=<DivBackward0>)\n",
      "loss tensor(0.0026, grad_fn=<DivBackward0>)\n",
      "loss tensor(0.0018, grad_fn=<DivBackward0>)\n",
      "loss tensor(0.0028, grad_fn=<DivBackward0>)\n",
      "loss tensor(0.0015, grad_fn=<DivBackward0>)\n",
      "loss tensor(0.0023, grad_fn=<DivBackward0>)\n",
      "loss tensor(0.0035, grad_fn=<DivBackward0>)\n",
      "loss tensor(0.0020, grad_fn=<DivBackward0>)\n",
      "loss tensor(0.0020, grad_fn=<DivBackward0>)\n",
      "loss tensor(0.0013, grad_fn=<DivBackward0>)\n",
      "loss tensor(0.0032, grad_fn=<DivBackward0>)\n",
      "loss tensor(0.0020, grad_fn=<DivBackward0>)\n",
      "loss tensor(0.0012, grad_fn=<DivBackward0>)\n",
      "loss tensor(0.0038, grad_fn=<DivBackward0>)\n",
      "loss tensor(0.0022, grad_fn=<DivBackward0>)\n",
      "loss tensor(0.0011, grad_fn=<DivBackward0>)\n",
      "loss tensor(0.0019, grad_fn=<DivBackward0>)\n",
      "loss tensor(0.0019, grad_fn=<DivBackward0>)\n",
      "loss tensor(0.0012, grad_fn=<DivBackward0>)\n",
      "loss tensor(0.0028, grad_fn=<DivBackward0>)\n",
      "loss tensor(0.0020, grad_fn=<DivBackward0>)\n",
      "loss tensor(0.0021, grad_fn=<DivBackward0>)\n",
      "loss tensor(0.0022, grad_fn=<DivBackward0>)\n",
      "loss tensor(0.0016, grad_fn=<DivBackward0>)\n",
      "loss tensor(0.0027, grad_fn=<DivBackward0>)\n",
      "loss tensor(0.0019, grad_fn=<DivBackward0>)\n",
      "loss tensor(0.0012, grad_fn=<DivBackward0>)\n",
      "loss tensor(0.0024, grad_fn=<DivBackward0>)\n",
      "loss tensor(0.0010, grad_fn=<DivBackward0>)\n",
      "loss tensor(0.0010, grad_fn=<DivBackward0>)\n",
      "loss tensor(0.0020, grad_fn=<DivBackward0>)\n",
      "loss tensor(0.0020, grad_fn=<DivBackward0>)\n",
      "loss tensor(0.0019, grad_fn=<DivBackward0>)\n",
      "loss tensor(0.0014, grad_fn=<DivBackward0>)\n",
      "loss tensor(0.0012, grad_fn=<DivBackward0>)\n",
      "loss tensor(0.0029, grad_fn=<DivBackward0>)\n",
      "loss tensor(0.0014, grad_fn=<DivBackward0>)\n",
      "loss tensor(0.0021, grad_fn=<DivBackward0>)\n",
      "loss tensor(0.0019, grad_fn=<DivBackward0>)\n",
      "loss tensor(0.0016, grad_fn=<DivBackward0>)\n",
      "loss tensor(0.0017, grad_fn=<DivBackward0>)\n",
      "loss tensor(0.0016, grad_fn=<DivBackward0>)\n",
      "loss tensor(0.0028, grad_fn=<DivBackward0>)\n",
      "loss tensor(0.0017, grad_fn=<DivBackward0>)\n",
      "loss tensor(0.0010, grad_fn=<DivBackward0>)\n",
      "loss tensor(0.0009, grad_fn=<DivBackward0>)\n",
      "loss tensor(0.0020, grad_fn=<DivBackward0>)\n",
      "loss tensor(0.0011, grad_fn=<DivBackward0>)\n",
      "loss tensor(0.0016, grad_fn=<DivBackward0>)\n"
     ]
    }
   ],
   "source": [
    "# training params\n",
    "\n",
    "epochs = 2 # 3-4 is approx where I noticed the validation loss stop decreasing\n",
    "\n",
    "counter = 0\n",
    "print_every = 5\n",
    "clip=5 # gradient clipping\n",
    "\n",
    "\n",
    "net.train()\n",
    "# train for some number of epochs\n",
    "for e in range(epochs):\n",
    "    \n",
    "    print('epoch started: ', e)\n",
    "\n",
    "    total_loss = 0\n",
    "      for i, (inputs, labels) in enumerate(train_loader,0):\n",
    "            counter += 1\n",
    "\n",
    "            output= net(inputs)\n",
    "            loss = criterion(output, labels.float())\n",
    "            loss.backward(retain_graph=True)\n",
    "\n",
    "            total_loss+=loss\n",
    "            print('loss',loss/(i+1.0))\n",
    "\n",
    "           # zero accumulated gradients\n",
    "            net.zero_grad()\n",
    "            loss.backward()\n",
    "            optimizer.step()\n"
   ]
  },
  {
   "cell_type": "code",
   "execution_count": 0,
   "metadata": {
    "colab": {},
    "colab_type": "code",
    "id": "OeLvQYP9z_Ku"
   },
   "outputs": [],
   "source": [
    "# torch.save(net.state_dict(), 'gdrive/My Drive/NLP task data/model.pth')"
   ]
  },
  {
   "cell_type": "code",
   "execution_count": 25,
   "metadata": {
    "colab": {
     "base_uri": "https://localhost:8080/",
     "height": 145
    },
    "colab_type": "code",
    "id": "YBnpYLlfRjfb",
    "outputId": "686a5e38-de90-4a2d-d17d-12e7ed1e8ca5"
   },
   "outputs": [
    {
     "name": "stdout",
     "output_type": "stream",
     "text": [
      "SentimentRNN(\n",
      "  (embedding): Embedding(10530, 400)\n",
      "  (lstm): LSTM(400, 256, num_layers=2, batch_first=True, dropout=0.5)\n",
      "  (dropout): Dropout(p=0.3)\n",
      "  (fc): Linear(in_features=256, out_features=1, bias=True)\n",
      "  (sig): Sigmoid()\n",
      ")\n"
     ]
    }
   ],
   "source": [
    "net = SentimentRNN(vocab_size, output_size, embedding_dim, hidden_dim, n_layers)\n",
    "net.load_state_dict(torch.load('gdrive/My Drive/NLP task data/model.pth'))\n",
    "print(net)"
   ]
  },
  {
   "cell_type": "code",
   "execution_count": 0,
   "metadata": {
    "colab": {},
    "colab_type": "code",
    "id": "mVHxBjY1ZrCx"
   },
   "outputs": [],
   "source": [
    "test_sent_list,test_label_list = read_csv('gdrive/My Drive/NLP task data/SubtaskA_Trial_Test_Labeled.csv')\n",
    "test_sent_list = test_sent_list[1:]\n",
    "test_label_list = test_label_list[1:]\n",
    "test_label_list = np.array([int(label) for label in test_label_list])"
   ]
  },
  {
   "cell_type": "code",
   "execution_count": 0,
   "metadata": {
    "colab": {},
    "colab_type": "code",
    "id": "XBdFz3VXjyqu"
   },
   "outputs": [],
   "source": [
    "main_test_sent_list, main_test_label_list = read_csv('gdrive/My Drive/NLP task data/SubtaskA_EvaluationData.csv')\n",
    "main_test_sent_list = main_test_sent_list\n",
    "main_test_label_list = main_test_label_list\n",
    "# main_test_label_list = np.array([int(label) for label in main_test_label_list])"
   ]
  },
  {
   "cell_type": "code",
   "execution_count": 28,
   "metadata": {
    "colab": {
     "base_uri": "https://localhost:8080/",
     "height": 201
    },
    "colab_type": "code",
    "id": "PpqBgVobhcSR",
    "outputId": "2f438111-8ff3-42c7-f9bf-c4d74a9d998c"
   },
   "outputs": [
    {
     "data": {
      "text/plain": [
       "[('1310_1',\n",
       "  \"I'm not asking Microsoft to Gives permission like Android so any app can take my data, but don't keep it restricted like iPhone.\"),\n",
       " ('1312_1', 'somewhere between Android and iPhone.'),\n",
       " ('1313_1',\n",
       "  'And in the Windows Store you can flag the App [Requires Trust] for example.'),\n",
       " ('1313_2',\n",
       "  'Many thanks Sameh Hi, As we know, there is a lot of limitations is WP8 OS due the high security in the OS itself which is very good, but some time we need to allow some apps to do extra works, apps which we trust i.e: hotmail app, facebook app, skype app ....'),\n",
       " ('1313_3',\n",
       "  'The idea is that we can develop a regular app and we request our permissions in the manifest, OR the app can ASK FOR TRUST__ more')]"
      ]
     },
     "execution_count": 28,
     "metadata": {
      "tags": []
     },
     "output_type": "execute_result"
    }
   ],
   "source": [
    "test_sent_list[:5]"
   ]
  },
  {
   "cell_type": "code",
   "execution_count": 29,
   "metadata": {
    "colab": {
     "base_uri": "https://localhost:8080/",
     "height": 183
    },
    "colab_type": "code",
    "id": "voRCMlFHktdd",
    "outputId": "1192b49a-f9bc-4e0b-90c6-70a47bf5954c"
   },
   "outputs": [
    {
     "data": {
      "text/plain": [
       "[('9566', 'This would enable live traffic aware apps.'),\n",
       " ('9569',\n",
       "  'Please try other formatting like bold italics shadow to distinguish titles/subtitles from content.'),\n",
       " ('9576',\n",
       "  'Since computers were invented to save time I suggest we be allowed to upload them all in one zip file - using numbering for the file names and the portal could place them in the right order.'),\n",
       " ('9577', 'Allow rearranging if the user wants to change them!'),\n",
       " ('9579',\n",
       "  'Add SIMD instructions for better use of ARM NEON instructions for math and games.')]"
      ]
     },
     "execution_count": 29,
     "metadata": {
      "tags": []
     },
     "output_type": "execute_result"
    }
   ],
   "source": [
    "main_test_sent_list[:5]"
   ]
  },
  {
   "cell_type": "code",
   "execution_count": 30,
   "metadata": {
    "colab": {
     "base_uri": "https://localhost:8080/",
     "height": 35
    },
    "colab_type": "code",
    "id": "OFdFgc4Ck50U",
    "outputId": "8b83c978-ed16-40ff-efff-a1333fb9a01f"
   },
   "outputs": [
    {
     "data": {
      "text/plain": [
       "833"
      ]
     },
     "execution_count": 30,
     "metadata": {
      "tags": []
     },
     "output_type": "execute_result"
    }
   ],
   "source": [
    "len(main_test_label_list)"
   ]
  },
  {
   "cell_type": "code",
   "execution_count": 0,
   "metadata": {
    "colab": {},
    "colab_type": "code",
    "id": "dxGKBM6p3YHM"
   },
   "outputs": [],
   "source": [
    "def tokenize_review(test_review):\n",
    "  \n",
    "    test_review = [test[1].lower() for test in test_review]\n",
    "    for i in range(len(test_review)):\n",
    "        test = test_review[i]\n",
    "        test = ''.join([c for c in test if c not in punctuation])\n",
    "        test_review[i] = test\n",
    "#     print(test_review[:2])\n",
    "    \n",
    "#     test_review = test_review[1].lower() # lowercase\n",
    "    # get rid of punctuation\n",
    "#     test_text = ''.join([c for c in test_review if c not in punctuation])\n",
    "\n",
    "    # splitting by spaces\n",
    "#     test_words = test_text.split()\n",
    "\n",
    "    # tokens\n",
    "    test_ints = []\n",
    "    for test in test_review:\n",
    "      l = []\n",
    "      for word in test.split():\n",
    "        if vocab_to_int.get(word) is not None:\n",
    "          l.append(vocab_to_int[word])\n",
    "      if len(l)>0:\n",
    "        test_ints.append(l)\n",
    "\n",
    "    return test_ints"
   ]
  },
  {
   "cell_type": "code",
   "execution_count": 0,
   "metadata": {
    "colab": {},
    "colab_type": "code",
    "id": "eFKwEZeM3OmX"
   },
   "outputs": [],
   "source": [
    "test_ints = tokenize_review(test_sent_list)\n",
    "main_test_ints = tokenize_review(main_test_sent_list)\n",
    "# print(test_ints)"
   ]
  },
  {
   "cell_type": "code",
   "execution_count": 33,
   "metadata": {
    "colab": {
     "base_uri": "https://localhost:8080/",
     "height": 54
    },
    "colab_type": "code",
    "id": "A3Bojwmd350H",
    "outputId": "f009f2b8-c32a-452a-8fb8-baaf283c69a3"
   },
   "outputs": [
    {
     "name": "stdout",
     "output_type": "stream",
     "text": [
      "(592, 200)\n",
      "(833, 200)\n"
     ]
    }
   ],
   "source": [
    "test_features = pad_features(test_ints, seq_length)\n",
    "main_test_features = pad_features(main_test_ints, seq_length)"
   ]
  },
  {
   "cell_type": "code",
   "execution_count": 34,
   "metadata": {
    "colab": {
     "base_uri": "https://localhost:8080/",
     "height": 363
    },
    "colab_type": "code",
    "id": "IgkCnQ-l4TuQ",
    "outputId": "c2df838b-dca4-4b9d-dfc9-c81844ddcbb9"
   },
   "outputs": [
    {
     "data": {
      "text/plain": [
       "array([   0,    0,    0,    0,    0,    0,    0,    0,    0,    0,    0,\n",
       "          0,    0,    0,    0,    0,    0,    0,    0,    0,    0,    0,\n",
       "          0,    0,    0,    0,    0,    0,    0,    0,    0,    0,    0,\n",
       "          0,    0,    0,    0,    0,    0,    0,    0,    0,    0,    0,\n",
       "          0,    0,    0,    0,    0,    0,    0,    0,    0,    0,    0,\n",
       "          0,    0,    0,    0,    0,    0,    0,    0,    0,    0,    0,\n",
       "          0,    0,    0,    0,    0,    0,    0,    0,    0,    0,    0,\n",
       "          0,    0,    0,    0,    0,    0,    0,    0,    0,    0,    0,\n",
       "          0,    0,    0,    0,    0,    0,    0,    0,    0,    0,    0,\n",
       "          0,    0,    0,    0,    0,    0,    0,    0,    0,    0,    0,\n",
       "          0,    0,    0,    0,    0,    0,    0,    0,    0,    0,    0,\n",
       "          0,    0,    0,    0,    0,    0,    0,    0,    0,    0,    0,\n",
       "          0,    0,    0,    0,    0,    0,    0,    0,    0,    0,    0,\n",
       "          0,    0,    0,    0,    0,    0,    0,    0,    0,    0,    0,\n",
       "          0,    0,    0,    0,    0,    0,    0,    0,    0,    0,    0,\n",
       "          0,    0,    0,    0,    0,    0,    0,    0,    0,    0,    0,\n",
       "          0,    0,    0,    0,    0,    0,    0,    0,    0,    0,    0,\n",
       "          0,    0,    0,    0,    0,    0,   13,   19,  353,  302, 2265,\n",
       "       2075,   32])"
      ]
     },
     "execution_count": 34,
     "metadata": {
      "tags": []
     },
     "output_type": "execute_result"
    }
   ],
   "source": [
    "main_test_features[0]"
   ]
  },
  {
   "cell_type": "code",
   "execution_count": 35,
   "metadata": {
    "colab": {
     "base_uri": "https://localhost:8080/",
     "height": 54
    },
    "colab_type": "code",
    "id": "C_VkrUnC7wo0",
    "outputId": "f46f445a-21a1-441b-cd36-5617e8db1706"
   },
   "outputs": [
    {
     "name": "stdout",
     "output_type": "stream",
     "text": [
      "torch.Size([592, 200])\n",
      "torch.Size([833, 200])\n"
     ]
    }
   ],
   "source": [
    "# test conversion to tensor and pass into your model\n",
    "feature_tensor = torch.from_numpy(test_features)\n",
    "print(feature_tensor.size())\n",
    "\n",
    "main_feature_tensor = torch.from_numpy(main_test_features)\n",
    "print(main_feature_tensor.shape)"
   ]
  },
  {
   "cell_type": "code",
   "execution_count": 36,
   "metadata": {
    "colab": {
     "base_uri": "https://localhost:8080/",
     "height": 35
    },
    "colab_type": "code",
    "id": "T_vtNByL-Xu3",
    "outputId": "e3b66280-a4e7-40f4-9950-f9d532b1b307"
   },
   "outputs": [
    {
     "name": "stdout",
     "output_type": "stream",
     "text": [
      "torch.Size([833, 200])\n"
     ]
    }
   ],
   "source": [
    "\n",
    "main_test_data = TensorDataset(torch.from_numpy(main_test_features))\n",
    "# main_test_loader = DataLoader(main_test_data, shuffle = False, batch_size=batch_size)\n",
    "# dataiter = iter(main_test_loader)\n",
    "# sample_x= dataiter.next()\n",
    "# print(main_test_data[0])\n",
    "data = torch.from_numpy(main_test_features)\n",
    "print(data.shape)\n",
    "# data = data[:5]"
   ]
  },
  {
   "cell_type": "code",
   "execution_count": 0,
   "metadata": {
    "colab": {},
    "colab_type": "code",
    "id": "M-pVFl25-eC0"
   },
   "outputs": [],
   "source": [
    "test_data = TensorDataset(torch.from_numpy(test_features), torch.from_numpy(test_label_list))\n",
    "test_loader = DataLoader(test_data, shuffle = False, batch_size=batch_size)\n",
    "# predict(net, feature_tensor)"
   ]
  },
  {
   "cell_type": "markdown",
   "metadata": {
    "colab_type": "text",
    "id": "oxFdOMR8oJSC"
   },
   "source": [
    "### code to test on labeled cross validation set"
   ]
  },
  {
   "cell_type": "code",
   "execution_count": 39,
   "metadata": {
    "colab": {
     "base_uri": "https://localhost:8080/",
     "height": 54
    },
    "colab_type": "code",
    "id": "l8MySUUlCPm4",
    "outputId": "a4953512-b28e-49c4-ad78-f07c25c9804a"
   },
   "outputs": [
    {
     "name": "stdout",
     "output_type": "stream",
     "text": [
      "Test loss: 0.547\n",
      "Test accuracy: 0.782\n"
     ]
    }
   ],
   "source": [
    "test_losses = [] # track loss\n",
    "num_correct = 0\n",
    "predicted_labels = []\n",
    "actual_labels = []\n",
    "# init hidden state\n",
    "# h = net.init_hidden(batch_size)\n",
    "\n",
    "net.eval()\n",
    "# iterate over test data\n",
    "for inputs, labels in test_loader:\n",
    "#     print(inputs)\n",
    "#     print(labels)\n",
    "    # Creating new variables for the hidden state, otherwise\n",
    "    # we'd backprop through the entire training history\n",
    "#     h = tuple([each.data for each in h])\n",
    "\n",
    "#     if(train_on_gpu):\n",
    "#         inputs, labels = inputs.cuda(), labels.cuda()\n",
    "    \n",
    "    # get predicted outputs\n",
    "    output = net(inputs)\n",
    "    \n",
    "    # calculate loss\n",
    "    test_loss = criterion(output.squeeze(), labels.float())\n",
    "    test_losses.append(test_loss.item())\n",
    "    \n",
    "    # convert output probabilities to predicted class (0 or 1)\n",
    "    pred = torch.round(output.squeeze())  # rounds to the nearest integer\n",
    "    predicted_labels.append(pred)\n",
    "    actual_labels.append(labels)\n",
    "#     print(predicted_labels)\n",
    "#     print(labels)\n",
    "    \n",
    "    # compare predictions to true label\n",
    "    correct_tensor = pred.eq(labels.float().view_as(pred))\n",
    "    correct = np.squeeze(correct_tensor.numpy())\n",
    "#     correct = np.squeeze(correct_tensor.numpy()) if not train_on_gpu else np.squeeze(correct_tensor.cpu().numpy())\n",
    "    num_correct += np.sum(correct)\n",
    "#     print(num_correct)\n",
    "\n",
    "# -- stats! -- ##\n",
    "# avg test loss\n",
    "print(\"Test loss: {:.3f}\".format(np.mean(test_losses)))\n",
    "\n",
    "# accuracy over all test data\n",
    "test_acc = num_correct/len(test_loader.dataset)\n",
    "print(\"Test accuracy: {:.3f}\".format(test_acc))"
   ]
  },
  {
   "cell_type": "markdown",
   "metadata": {},
   "source": [
    "## test accuracy is better with RNN LSTM implementation than SVM implementation."
   ]
  },
  {
   "cell_type": "code",
   "execution_count": 0,
   "metadata": {
    "colab": {},
    "colab_type": "code",
    "id": "3ARh3uvMVI7y"
   },
   "outputs": [],
   "source": [
    "predicted_labels = [p.data.numpy() for p in predicted_labels]\n",
    "actual_labels = [p.data.numpy() for p in actual_labels]\n",
    "\n",
    "# predicted_labels = torch.cat(predicted_labels, 0)\n",
    "# print(predicted_labels)\n",
    "# predicted_labels = predicted_labels.data.numpy()"
   ]
  },
  {
   "cell_type": "code",
   "execution_count": 0,
   "metadata": {
    "colab": {},
    "colab_type": "code",
    "id": "OeDBGL6ud6Qe"
   },
   "outputs": [],
   "source": [
    "# predicted_labels[:2]\n",
    "predicted_labels = np.concatenate(predicted_labels, axis=0)\n",
    "actual_labels = np.concatenate(actual_labels, axis=0)"
   ]
  },
  {
   "cell_type": "code",
   "execution_count": 42,
   "metadata": {
    "colab": {
     "base_uri": "https://localhost:8080/",
     "height": 429
    },
    "colab_type": "code",
    "id": "M3l2yxY3Vlst",
    "outputId": "cbab4f30-b945-4359-f4ff-fbdf44d49691"
   },
   "outputs": [
    {
     "name": "stdout",
     "output_type": "stream",
     "text": [
      "              precision    recall  f1-score   support\n",
      "\n",
      "           0       0.74      0.88      0.80       296\n",
      "           1       0.85      0.69      0.76       296\n",
      "\n",
      "   micro avg       0.78      0.78      0.78       592\n",
      "   macro avg       0.79      0.78      0.78       592\n",
      "weighted avg       0.79      0.78      0.78       592\n",
      "\n"
     ]
    },
    {
     "data": {
      "image/png": "[encoded data removed]",
      "text/plain": [
       "<Figure size 432x288 with 2 Axes>"
      ]
     },
     "metadata": {
      "tags": []
     },
     "output_type": "display_data"
    }
   ],
   "source": [
    "\n",
    "print(classification_report(actual_labels, predicted_labels, target_names=['0', '1']))\n",
    "cm = confusion_matrix(actual_labels, predicted_labels)\n",
    "plot_confusion_matrix(cm, ['0','1'])"
   ]
  },
  {
   "cell_type": "markdown",
   "metadata": {},
   "source": [
    "## Observation: good f1 score for both classes. It shows that RNN works better than SVM"
   ]
  },
  {
   "cell_type": "markdown",
   "metadata": {
    "colab_type": "text",
    "id": "_zTuYosFoQ2I"
   },
   "source": [
    "### code to find label of main test data"
   ]
  },
  {
   "cell_type": "code",
   "execution_count": 0,
   "metadata": {
    "colab": {},
    "colab_type": "code",
    "id": "2hiXbtheWYpp"
   },
   "outputs": [],
   "source": [
    "output = net(data)"
   ]
  },
  {
   "cell_type": "code",
   "execution_count": 44,
   "metadata": {
    "colab": {
     "base_uri": "https://localhost:8080/",
     "height": 35
    },
    "colab_type": "code",
    "id": "YYJlUiACggiQ",
    "outputId": "35e5b84e-5fe2-450b-b805-a6fade13c88d"
   },
   "outputs": [
    {
     "data": {
      "text/plain": [
       "torch.Size([833, 1])"
      ]
     },
     "execution_count": 44,
     "metadata": {
      "tags": []
     },
     "output_type": "execute_result"
    }
   ],
   "source": [
    "output.shape"
   ]
  },
  {
   "cell_type": "code",
   "execution_count": 0,
   "metadata": {
    "colab": {},
    "colab_type": "code",
    "id": "5wJifl91tz3a"
   },
   "outputs": [],
   "source": [
    "pred = torch.round(output.squeeze())  # rounds to the nearest integer\n",
    "# predicted_labels.append(pred).\n",
    "# print(pred)\n",
    "main_pred = pred.data.numpy()\n",
    "main_pred = main_pred.astype(int)"
   ]
  },
  {
   "cell_type": "code",
   "execution_count": 55,
   "metadata": {
    "colab": {
     "base_uri": "https://localhost:8080/",
     "height": 35
    },
    "colab_type": "code",
    "id": "1Wnum4Jht_gV",
    "outputId": "10d5c993-7da4-4fb6-b226-bec6a10adc24"
   },
   "outputs": [
    {
     "data": {
      "text/plain": [
       "833"
      ]
     },
     "execution_count": 55,
     "metadata": {
      "tags": []
     },
     "output_type": "execute_result"
    }
   ],
   "source": [
    "len(main_pred)"
   ]
  },
  {
   "cell_type": "code",
   "execution_count": 0,
   "metadata": {
    "colab": {},
    "colab_type": "code",
    "id": "cF_Z6yFNyQM0"
   },
   "outputs": [],
   "source": [
    "rows = []\n",
    "path = 'gdrive/My Drive/NLP task data/SubtaskA_EvaluationData.csv'\n",
    "with open(path) as csvfile:\n",
    "    readCSV = csv.reader(csvfile, delimiter=',')\n",
    "    for row in readCSV:\n",
    "        rows.append(row)\n",
    "        "
   ]
  },
  {
   "cell_type": "code",
   "execution_count": 57,
   "metadata": {
    "colab": {
     "base_uri": "https://localhost:8080/",
     "height": 35
    },
    "colab_type": "code",
    "id": "O2KXVrA_yTqU",
    "outputId": "41834b59-c89b-4b72-afa2-ed5c5841585d"
   },
   "outputs": [
    {
     "data": {
      "text/plain": [
       "833"
      ]
     },
     "execution_count": 57,
     "metadata": {
      "tags": []
     },
     "output_type": "execute_result"
    }
   ],
   "source": [
    "len(rows)"
   ]
  },
  {
   "cell_type": "code",
   "execution_count": 58,
   "metadata": {
    "colab": {
     "base_uri": "https://localhost:8080/",
     "height": 237
    },
    "colab_type": "code",
    "id": "uLAZnPMyzT4W",
    "outputId": "ba1a797c-7f4c-4f1e-b00f-8cff416d7ea8"
   },
   "outputs": [
    {
     "data": {
      "text/plain": [
       "[['9566', 'This would enable live traffic aware apps.', 'X'],\n",
       " ['9569',\n",
       "  'Please try other formatting like bold italics shadow to distinguish titles/subtitles from content.',\n",
       "  'X'],\n",
       " ['9576',\n",
       "  'Since computers were invented to save time I suggest we be allowed to upload them all in one zip file - using numbering for the file names and the portal could place them in the right order.',\n",
       "  'X'],\n",
       " ['9577', 'Allow rearranging if the user wants to change them!', 'X'],\n",
       " ['9579',\n",
       "  'Add SIMD instructions for better use of ARM NEON instructions for math and games.',\n",
       "  'X']]"
      ]
     },
     "execution_count": 58,
     "metadata": {
      "tags": []
     },
     "output_type": "execute_result"
    }
   ],
   "source": [
    "rows[:5]\n"
   ]
  },
  {
   "cell_type": "code",
   "execution_count": 0,
   "metadata": {
    "colab": {},
    "colab_type": "code",
    "id": "7wJ7M2QL0j0J"
   },
   "outputs": [],
   "source": [
    "for i in range(len(rows)):\n",
    "    rows[i][2] = main_pred[i]\n",
    " "
   ]
  },
  {
   "cell_type": "code",
   "execution_count": 60,
   "metadata": {
    "colab": {
     "base_uri": "https://localhost:8080/",
     "height": 237
    },
    "colab_type": "code",
    "id": "eAZf8j-J6CDR",
    "outputId": "f12e6300-145e-4c95-8e71-b5e205d7e254"
   },
   "outputs": [
    {
     "data": {
      "text/plain": [
       "[['9566', 'This would enable live traffic aware apps.', 0],\n",
       " ['9569',\n",
       "  'Please try other formatting like bold italics shadow to distinguish titles/subtitles from content.',\n",
       "  1],\n",
       " ['9576',\n",
       "  'Since computers were invented to save time I suggest we be allowed to upload them all in one zip file - using numbering for the file names and the portal could place them in the right order.',\n",
       "  0],\n",
       " ['9577', 'Allow rearranging if the user wants to change them!', 1],\n",
       " ['9579',\n",
       "  'Add SIMD instructions for better use of ARM NEON instructions for math and games.',\n",
       "  1]]"
      ]
     },
     "execution_count": 60,
     "metadata": {
      "tags": []
     },
     "output_type": "execute_result"
    }
   ],
   "source": [
    "rows[:5]"
   ]
  },
  {
   "cell_type": "code",
   "execution_count": 0,
   "metadata": {
    "colab": {},
    "colab_type": "code",
    "id": "_MrGN04r6ESI"
   },
   "outputs": [],
   "source": [
    "with open('shishir_singhal.csv', 'w') as writeFile:\n",
    "    writer = csv.writer(writeFile)\n",
    "    writer.writerows(rows)"
   ]
  },
  {
   "cell_type": "code",
   "execution_count": 0,
   "metadata": {
    "colab": {},
    "colab_type": "code",
    "id": "B7Aryfpq7N2V"
   },
   "outputs": [],
   "source": []
  }
 ],
 "metadata": {
  "accelerator": "GPU",
  "colab": {
   "collapsed_sections": [],
   "name": "NLP task.ipynb",
   "provenance": [],
   "toc_visible": true,
   "version": "0.3.2"
  },
  "kernelspec": {
   "display_name": "Python 3",
   "language": "python",
   "name": "python3"
  },
  "language_info": {
   "codemirror_mode": {
    "name": "ipython",
    "version": 3
   },
   "file_extension": ".py",
   "mimetype": "text/x-python",
   "name": "python",
   "nbconvert_exporter": "python",
   "pygments_lexer": "ipython3",
   "version": "3.7.1"
  }
 },
 "nbformat": 4,
 "nbformat_minor": 1
}
